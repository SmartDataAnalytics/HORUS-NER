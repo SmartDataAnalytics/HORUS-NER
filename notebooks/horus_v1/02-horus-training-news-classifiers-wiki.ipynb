{
 "cells": [
  {
   "cell_type": "markdown",
   "metadata": {
    "jupyter": {
     "outputs_hidden": true
    }
   },
   "source": [
    "## HORUS-NER: Text Classification (v1.0)"
   ]
  },
  {
   "cell_type": "markdown",
   "metadata": {},
   "source": [
    "## Get training data from DBPedia"
   ]
  },
  {
   "cell_type": "code",
   "execution_count": 63,
   "metadata": {},
   "outputs": [],
   "source": [
    "import requests\n",
    "import json\n",
    "import csv\n",
    "import pandas as pd\n",
    "import io\n",
    "from SPARQLWrapper import SPARQLWrapper, JSON, CSV, TSV\n",
    "import os\n",
    "from sklearn.feature_extraction.text import TfidfVectorizer\n",
    "from sklearn.feature_selection import chi2\n",
    "import numpy as np\n",
    "import matplotlib.pyplot as plt\n",
    "from sklearn.model_selection import train_test_split\n",
    "from sklearn.feature_extraction.text import CountVectorizer\n",
    "from sklearn.feature_extraction.text import TfidfTransformer\n",
    "from sklearn.naive_bayes import MultinomialNB\n",
    "from sklearn.linear_model import LogisticRegression\n",
    "from sklearn.ensemble import RandomForestClassifier\n",
    "from sklearn.svm import LinearSVC\n",
    "from sklearn.model_selection import cross_val_score\n",
    "import seaborn as sns\n",
    "from sklearn.metrics import confusion_matrix\n",
    "from IPython.display import display\n",
    "from sklearn import metrics\n",
    "from sklearn.svm import SVC\n",
    "from sklearn.calibration import CalibratedClassifierCV\n",
    "from nltk.corpus import stopwords\n",
    "stop_words = set(stopwords.words('english'))\n",
    "from nltk.tokenize import word_tokenize\n",
    "import joblib\n",
    "import xgboost as xgb\n",
    "from sklearn.svm import SVC\n",
    "from sklearn.pipeline import Pipeline\n",
    "from sklearn.multiclass import OneVsRestClassifier\n",
    "from sklearn import preprocessing"
   ]
  },
  {
   "cell_type": "code",
   "execution_count": 64,
   "metadata": {},
   "outputs": [],
   "source": [
    "sentence = 'Then discover the Fiat 500C, the iconic city car that is as individual as you'"
   ]
  },
  {
   "cell_type": "markdown",
   "metadata": {},
   "source": [
    "## Defining SPARQL queries"
   ]
  },
  {
   "cell_type": "code",
   "execution_count": 65,
   "metadata": {},
   "outputs": [],
   "source": [
    "endpoint = 'https://dbpedia.org/sparql'\n",
    "\n",
    "query_sufix = \"\"\"\n",
    "offset <offset>\n",
    "limit 10000\n",
    "\"\"\"\n",
    "query_namespaces = \"\"\"\n",
    "PREFIX dbo: <http://dbpedia.org/ontology/>\n",
    "PREFIX dbr: <http://dbpedia.org/resource/>\n",
    "PREFIX rdf: <http://www.w3.org/1999/02/22-rdf-syntax-ns#>\n",
    "PREFIX rdfs: <http://www.w3.org/2000/01/rdf-schema#>\n",
    "\n",
    "\"\"\"\n",
    "query_per = \"\"\"\n",
    "SELECT ?s, ?label, dbo:Person as ?type, ?abstract\n",
    "FROM <http://dbpedia.org>\n",
    "WHERE {\n",
    "    ?s rdf:type dbo:Person .\n",
    "    ?s rdfs:label ?label .\n",
    "    ?s dbo:abstract ?abstract .\n",
    "    FILTER (lang(?label) = 'en') .\n",
    "    FILTER (lang(?abstract) = 'en')\n",
    "}\n",
    "\"\"\"\n",
    "\n",
    "query_loc = \"\"\"\n",
    "SELECT ?s, ?label, ?type, ?abstract\n",
    "FROM <http://dbpedia.org>\n",
    "WHERE {\n",
    "    ?s rdf:type ?type . \n",
    "    ?s rdfs:label ?label .\n",
    "    ?s dbo:abstract ?abstract .\n",
    "    FILTER (lang(?abstract) = 'en')\n",
    "    FILTER (lang(?label) = 'en')\n",
    "    FILTER (?type IN (dbo:City, dbo:Country, dbo:Towns, dbo:Municipality, dbo:Hill_station, dbo:Village, dbo:Suburb, dbo:Neighborhood, dbo:NaturalPlace, dbo:Urban_areas, dbo:Tourist_attraction)) \n",
    "}\n",
    "\"\"\"\n",
    "\n",
    "query_org = \"\"\"\n",
    "SELECT ?s, ?label, ?type, ?abstract\n",
    "FROM <http://dbpedia.org>\n",
    "WHERE { ?s rdf:type ?type .\n",
    "        ?s rdfs:label ?label .\n",
    "        ?s dbo:abstract ?abstract .\n",
    "    FILTER (lang(?abstract) = 'en')\n",
    "    FILTER (lang(?label) = 'en')\n",
    "    FILTER (?type IN (dbo:Organisation, dbo:Company)) \n",
    "}\n",
    "\"\"\"    \n",
    "\n",
    "query_others = \"\"\"\n",
    "SELECT ?s, ?label, ?type, ?abstract\n",
    "FROM <http://dbpedia.org>\n",
    "WHERE {\n",
    "    ?s rdf:type ?type . \n",
    "    ?s rdfs:label ?label .\n",
    "    ?s dbo:abstract ?abstract .\n",
    "    FILTER (lang(?abstract) = 'en')\n",
    "    FILTER (lang(?label) = 'en')\n",
    "    FILTER (?type IN (dbo:WrittenWork, dbo:Species, dbo:CelestialBody, dbo:Food, dbo:Disease, dbo:Game, dbo:MeanOfTransportation)) \n",
    "}\n",
    "\"\"\""
   ]
  },
  {
   "cell_type": "markdown",
   "metadata": {},
   "source": [
    "## Saving data from DBPedia"
   ]
  },
  {
   "cell_type": "code",
   "execution_count": 66,
   "metadata": {},
   "outputs": [
    {
     "name": "stdout",
     "output_type": "stream",
     "text": [
      "person 0\n",
      "person 10000\n",
      "person 20000\n",
      "person 30000\n",
      "person 40000\n",
      "person 50000\n",
      "person 60000\n",
      "person 70000\n",
      "person 80000\n",
      "person 90000\n",
      "person 100000\n",
      "location 0\n",
      "location 10000\n",
      "location 20000\n",
      "location 30000\n",
      "location 40000\n",
      "location 50000\n",
      "location 60000\n",
      "location 70000\n",
      "location 80000\n",
      "location 90000\n",
      "location 100000\n",
      "organisation 0\n",
      "organisation 10000\n",
      "organisation 20000\n",
      "organisation 30000\n",
      "organisation 40000\n",
      "organisation 50000\n",
      "organisation 60000\n",
      "organisation 70000\n",
      "organisation 80000\n",
      "organisation 90000\n",
      "organisation 100000\n",
      "other 0\n",
      "other 10000\n",
      "other 20000\n",
      "other 30000\n",
      "other 40000\n",
      "other 50000\n",
      "other 60000\n",
      "other 70000\n",
      "other 80000\n",
      "other 90000\n",
      "other 100000\n"
     ]
    }
   ],
   "source": [
    "# limit is fixed to its default: 10000\n",
    "offsets = [0, 10000, 20000, 30000, 40000, 50000, 60000, 70000, 80000, 90000, 100000]\n",
    "\n",
    "sparql = SPARQLWrapper(\"http://dbpedia.org/sparql\")\n",
    "Q = [('person', query_per), ('location', query_loc), ('organisation', query_org), ('other', query_others)]\n",
    "for (label, query) in Q:\n",
    "    for offset in offsets:\n",
    "        print(label, offset)\n",
    "        file_sufix = '0' + str(offset)[0]\n",
    "        if len(str(offset))==6: \n",
    "            file_sufix = str(offset)[0:2]\n",
    "        path = f'./data/raw/dump_dbpedia_{label}_{file_sufix}.csv'\n",
    "        if not os.path.isfile(path):\n",
    "            sparql.setQuery(query_namespaces + query + query_sufix.replace('<offset>', str(offset)))\n",
    "            sparql.setReturnFormat(TSV)\n",
    "            results = sparql.query().convert()\n",
    "            df = pd.read_csv(io.BytesIO(results), sep=\"\\t\") \n",
    "            df.to_csv(path, sep='\\t')"
   ]
  },
  {
   "cell_type": "code",
   "execution_count": 67,
   "metadata": {},
   "outputs": [
    {
     "data": {
      "text/plain": [
       "\"\\ndf_other2 = pd.read_csv('./data/raw/dump_dbpedia_other_02.csv', sep='\\t', index_col=0)\\ndf_other3 = pd.read_csv('./data/raw/dump_dbpedia_other_03.csv', sep='\\t', index_col=0)\\ndf_other4 = pd.read_csv('./data/raw/dump_dbpedia_other_04.csv', sep='\\t', index_col=0)\\ndf_other5 = pd.read_csv('./data/raw/dump_dbpedia_other_05.csv', sep='\\t', index_col=0)\\ndf_other6 = pd.read_csv('./data/raw/dump_dbpedia_other_06.csv', sep='\\t', index_col=0)\\ndf_other7 = pd.read_csv('./data/raw/dump_dbpedia_other_07.csv', sep='\\t', index_col=0)\\ndf_other8 = pd.read_csv('./data/raw/dump_dbpedia_other_08.csv', sep='\\t', index_col=0)\\ndf_other9 = pd.read_csv('./data/raw/dump_dbpedia_other_09.csv', sep='\\t', index_col=0)\\ndf_other10 = pd.read_csv('./data/raw/dump_dbpedia_other_10.csv', sep='\\t', index_col=0)\\n\""
      ]
     },
     "execution_count": 67,
     "metadata": {},
     "output_type": "execute_result"
    }
   ],
   "source": [
    "df_per0 = pd.read_csv('./data/raw/dump_dbpedia_person_00.csv', sep='\\t', index_col=0)\n",
    "df_per1 = pd.read_csv('./data/raw/dump_dbpedia_person_01.csv', sep='\\t', index_col=0)\n",
    "\"\"\"\n",
    "df_per2 = pd.read_csv('./data/raw/dump_dbpedia_person_02.csv', sep='\\t', index_col=0)\n",
    "df_per3 = pd.read_csv('./data/raw/dump_dbpedia_person_03.csv', sep='\\t', index_col=0)\n",
    "df_per4 = pd.read_csv('./data/raw/dump_dbpedia_person_04.csv', sep='\\t', index_col=0)\n",
    "df_per5 = pd.read_csv('./data/raw/dump_dbpedia_person_05.csv', sep='\\t', index_col=0)\n",
    "df_per6 = pd.read_csv('./data/raw/dump_dbpedia_person_06.csv', sep='\\t', index_col=0)\n",
    "df_per7 = pd.read_csv('./data/raw/dump_dbpedia_person_07.csv', sep='\\t', index_col=0)\n",
    "df_per8 = pd.read_csv('./data/raw/dump_dbpedia_person_08.csv', sep='\\t', index_col=0)\n",
    "df_per9 = pd.read_csv('./data/raw/dump_dbpedia_person_09.csv', sep='\\t', index_col=0)\n",
    "df_per10 = pd.read_csv('./data/raw/dump_dbpedia_person_10.csv', sep='\\t', index_col=0)\n",
    "\"\"\"\n",
    "\n",
    "df_org0 = pd.read_csv('./data/raw/dump_dbpedia_organisation_00.csv', sep='\\t', index_col=0)\n",
    "df_org1 = pd.read_csv('./data/raw/dump_dbpedia_organisation_01.csv', sep='\\t', index_col=0)\n",
    "\"\"\"\n",
    "df_org2 = pd.read_csv('./data/raw/dump_dbpedia_organisation_02.csv', sep='\\t', index_col=0)\n",
    "df_org3 = pd.read_csv('./data/raw/dump_dbpedia_organisation_03.csv', sep='\\t', index_col=0)\n",
    "df_org4 = pd.read_csv('./data/raw/dump_dbpedia_organisation_04.csv', sep='\\t', index_col=0)\n",
    "df_org5 = pd.read_csv('./data/raw/dump_dbpedia_organisation_05.csv', sep='\\t', index_col=0)\n",
    "df_org6 = pd.read_csv('./data/raw/dump_dbpedia_organisation_06.csv', sep='\\t', index_col=0)\n",
    "df_org7 = pd.read_csv('./data/raw/dump_dbpedia_organisation_07.csv', sep='\\t', index_col=0)\n",
    "df_org8 = pd.read_csv('./data/raw/dump_dbpedia_organisation_08.csv', sep='\\t', index_col=0)\n",
    "df_org9 = pd.read_csv('./data/raw/dump_dbpedia_organisation_09.csv', sep='\\t', index_col=0)\n",
    "df_org10 = pd.read_csv('./data/raw/dump_dbpedia_organisation_10.csv', sep='\\t', index_col=0)\n",
    "\"\"\"\n",
    "\n",
    "df_loc0 = pd.read_csv('./data/raw/dump_dbpedia_location_00.csv', sep='\\t', index_col=0)\n",
    "df_loc1 = pd.read_csv('./data/raw/dump_dbpedia_location_01.csv', sep='\\t', index_col=0)\n",
    "\"\"\"\n",
    "df_loc2 = pd.read_csv('./data/raw/dump_dbpedia_location_02.csv', sep='\\t', index_col=0)\n",
    "df_loc3 = pd.read_csv('./data/raw/dump_dbpedia_location_03.csv', sep='\\t', index_col=0)\n",
    "df_loc4 = pd.read_csv('./data/raw/dump_dbpedia_location_04.csv', sep='\\t', index_col=0)\n",
    "df_loc5 = pd.read_csv('./data/raw/dump_dbpedia_location_05.csv', sep='\\t', index_col=0)\n",
    "df_loc6 = pd.read_csv('./data/raw/dump_dbpedia_location_06.csv', sep='\\t', index_col=0)\n",
    "df_loc7 = pd.read_csv('./data/raw/dump_dbpedia_location_07.csv', sep='\\t', index_col=0)\n",
    "df_loc8 = pd.read_csv('./data/raw/dump_dbpedia_location_08.csv', sep='\\t', index_col=0)\n",
    "df_loc9 = pd.read_csv('./data/raw/dump_dbpedia_location_09.csv', sep='\\t', index_col=0)\n",
    "df_loc10 = pd.read_csv('./data/raw/dump_dbpedia_location_10.csv', sep='\\t', index_col=0)\n",
    "\"\"\"\n",
    "df_other0 = pd.read_csv('./data/raw/dump_dbpedia_other_00.csv', sep='\\t', index_col=0)\n",
    "df_other1 = pd.read_csv('./data/raw/dump_dbpedia_other_01.csv', sep='\\t', index_col=0)\n",
    "\"\"\"\n",
    "df_other2 = pd.read_csv('./data/raw/dump_dbpedia_other_02.csv', sep='\\t', index_col=0)\n",
    "df_other3 = pd.read_csv('./data/raw/dump_dbpedia_other_03.csv', sep='\\t', index_col=0)\n",
    "df_other4 = pd.read_csv('./data/raw/dump_dbpedia_other_04.csv', sep='\\t', index_col=0)\n",
    "df_other5 = pd.read_csv('./data/raw/dump_dbpedia_other_05.csv', sep='\\t', index_col=0)\n",
    "df_other6 = pd.read_csv('./data/raw/dump_dbpedia_other_06.csv', sep='\\t', index_col=0)\n",
    "df_other7 = pd.read_csv('./data/raw/dump_dbpedia_other_07.csv', sep='\\t', index_col=0)\n",
    "df_other8 = pd.read_csv('./data/raw/dump_dbpedia_other_08.csv', sep='\\t', index_col=0)\n",
    "df_other9 = pd.read_csv('./data/raw/dump_dbpedia_other_09.csv', sep='\\t', index_col=0)\n",
    "df_other10 = pd.read_csv('./data/raw/dump_dbpedia_other_10.csv', sep='\\t', index_col=0)\n",
    "\"\"\""
   ]
  },
  {
   "cell_type": "code",
   "execution_count": 68,
   "metadata": {},
   "outputs": [
    {
     "data": {
      "text/html": [
       "<div>\n",
       "<style scoped>\n",
       "    .dataframe tbody tr th:only-of-type {\n",
       "        vertical-align: middle;\n",
       "    }\n",
       "\n",
       "    .dataframe tbody tr th {\n",
       "        vertical-align: top;\n",
       "    }\n",
       "\n",
       "    .dataframe thead th {\n",
       "        text-align: right;\n",
       "    }\n",
       "</style>\n",
       "<table border=\"1\" class=\"dataframe\">\n",
       "  <thead>\n",
       "    <tr style=\"text-align: right;\">\n",
       "      <th></th>\n",
       "      <th>s</th>\n",
       "      <th>label</th>\n",
       "      <th>type</th>\n",
       "      <th>abstract</th>\n",
       "    </tr>\n",
       "  </thead>\n",
       "  <tbody>\n",
       "    <tr>\n",
       "      <th>0</th>\n",
       "      <td>http://dbpedia.org/resource/Andreas_Ekberg</td>\n",
       "      <td>Andreas Ekberg</td>\n",
       "      <td>http://dbpedia.org/ontology/Person</td>\n",
       "      <td>Andreas Ekberg (born 2 January 1985) is a Swed...</td>\n",
       "    </tr>\n",
       "    <tr>\n",
       "      <th>1</th>\n",
       "      <td>http://dbpedia.org/resource/Danilo_Tognon</td>\n",
       "      <td>Danilo Tognon</td>\n",
       "      <td>http://dbpedia.org/ontology/Person</td>\n",
       "      <td>The Canoeist Danilo Tognon (born October 9, 19...</td>\n",
       "    </tr>\n",
       "    <tr>\n",
       "      <th>2</th>\n",
       "      <td>http://dbpedia.org/resource/Lorine_Livington_P...</td>\n",
       "      <td>Lorine Livington Pruette</td>\n",
       "      <td>http://dbpedia.org/ontology/Person</td>\n",
       "      <td>Lorine Livington Pruette (1896–1977) was an Am...</td>\n",
       "    </tr>\n",
       "    <tr>\n",
       "      <th>3</th>\n",
       "      <td>http://dbpedia.org/resource/Megan_Lawrence</td>\n",
       "      <td>Megan Lawrence</td>\n",
       "      <td>http://dbpedia.org/ontology/Person</td>\n",
       "      <td>Megan Lawrence (born 1972) is an American actr...</td>\n",
       "    </tr>\n",
       "    <tr>\n",
       "      <th>4</th>\n",
       "      <td>http://dbpedia.org/resource/Nikolaos_Ventouras</td>\n",
       "      <td>Nikolaos Ventouras</td>\n",
       "      <td>http://dbpedia.org/ontology/Person</td>\n",
       "      <td>Nikos Ventouras (August 31, 1899 – April 1, 19...</td>\n",
       "    </tr>\n",
       "  </tbody>\n",
       "</table>\n",
       "</div>"
      ],
      "text/plain": [
       "                                                   s  \\\n",
       "0         http://dbpedia.org/resource/Andreas_Ekberg   \n",
       "1          http://dbpedia.org/resource/Danilo_Tognon   \n",
       "2  http://dbpedia.org/resource/Lorine_Livington_P...   \n",
       "3         http://dbpedia.org/resource/Megan_Lawrence   \n",
       "4     http://dbpedia.org/resource/Nikolaos_Ventouras   \n",
       "\n",
       "                      label                                type  \\\n",
       "0            Andreas Ekberg  http://dbpedia.org/ontology/Person   \n",
       "1             Danilo Tognon  http://dbpedia.org/ontology/Person   \n",
       "2  Lorine Livington Pruette  http://dbpedia.org/ontology/Person   \n",
       "3            Megan Lawrence  http://dbpedia.org/ontology/Person   \n",
       "4        Nikolaos Ventouras  http://dbpedia.org/ontology/Person   \n",
       "\n",
       "                                            abstract  \n",
       "0  Andreas Ekberg (born 2 January 1985) is a Swed...  \n",
       "1  The Canoeist Danilo Tognon (born October 9, 19...  \n",
       "2  Lorine Livington Pruette (1896–1977) was an Am...  \n",
       "3  Megan Lawrence (born 1972) is an American actr...  \n",
       "4  Nikos Ventouras (August 31, 1899 – April 1, 19...  "
      ]
     },
     "execution_count": 68,
     "metadata": {},
     "output_type": "execute_result"
    }
   ],
   "source": [
    "df_per0.head()"
   ]
  },
  {
   "cell_type": "markdown",
   "metadata": {},
   "source": [
    "## Training data"
   ]
  },
  {
   "cell_type": "code",
   "execution_count": 69,
   "metadata": {},
   "outputs": [
    {
     "name": "stdout",
     "output_type": "stream",
     "text": [
      "PERSON (20000, 4)\n",
      "(20000, 4)\n",
      "ORGANISATION (20000, 4)\n",
      "(12292, 4)\n",
      "LOCATION (20000, 4)\n",
      "(20000, 4)\n",
      "MISC (20000, 4)\n",
      "(19970, 4)\n"
     ]
    }
   ],
   "source": [
    "#aux = [df_per0, df_per1, df_per2, df_per3, df_per4, df_per5, df_per6, df_per7, df_per8, df_per9, df_per10]\n",
    "aux = [df_per0, df_per1]\n",
    "df_per = pd.concat(aux)\n",
    "print('PERSON', df_per.shape)\n",
    "df_per.drop_duplicates(subset =\"label\", keep = False, inplace = True) \n",
    "print(df_per.shape)\n",
    "df_per.to_csv('./data/processed/dump_dbpedia_person.csv', sep='\\t')\n",
    "\n",
    "#aux = [df_org0, df_org1, df_org2, df_org3, df_org4, df_org5, df_org6, df_org7, df_org8, df_org9, df_org10]\n",
    "aux = [df_org0, df_org1]\n",
    "df_org = pd.concat(aux)\n",
    "print('ORGANISATION', df_org.shape)\n",
    "df_org.drop_duplicates(subset =\"label\", keep = False, inplace = True) \n",
    "print(df_org.shape)\n",
    "df_org.to_csv('./data/processed/dump_dbpedia_organisation.csv', sep='\\t')\n",
    "\n",
    "#aux = [df_loc0, df_loc1, df_loc2, df_loc3, df_loc4, df_loc5, df_loc6, df_loc7, df_loc8, df_loc9, df_loc10]\n",
    "aux = [df_loc0, df_loc1]\n",
    "df_loc = pd.concat(aux)\n",
    "print('LOCATION', df_loc.shape)\n",
    "df_loc.drop_duplicates(subset =\"label\", keep = False, inplace = True) \n",
    "print(df_loc.shape)\n",
    "df_loc.to_csv('./data/processed/dump_dbpedia_location.csv', sep='\\t')\n",
    "\n",
    "#aux = [df_other0, df_other1, df_other2, df_other3, df_other4, df_other5, df_other6, df_other7, df_other8, df_other9, df_other10]\n",
    "aux = [df_other0, df_other1]\n",
    "df_other = pd.concat(aux)\n",
    "print('MISC', df_other.shape)\n",
    "df_other.drop_duplicates(subset =\"label\", keep = False, inplace = True) \n",
    "print(df_other.shape)\n",
    "df_other.to_csv('./data/processed/dump_dbpedia_other.csv', sep='\\t')"
   ]
  },
  {
   "cell_type": "code",
   "execution_count": 70,
   "metadata": {},
   "outputs": [],
   "source": [
    "# adding the label class\n",
    "df_per['category'] = 'PER'\n",
    "df_org['category'] = 'ORG'\n",
    "df_loc['category'] = 'LOC'\n",
    "df_other['category'] = 'MISC'"
   ]
  },
  {
   "cell_type": "code",
   "execution_count": 71,
   "metadata": {},
   "outputs": [
    {
     "data": {
      "text/plain": [
       "category\n",
       "LOC     20000\n",
       "MISC    19970\n",
       "ORG     12292\n",
       "PER     20000\n",
       "Name: s, dtype: int64"
      ]
     },
     "execution_count": 71,
     "metadata": {},
     "output_type": "execute_result"
    }
   ],
   "source": [
    "training_data = [df_per, df_org, df_loc, df_other]\n",
    "df_train = pd.concat(training_data, ignore_index=True, keys=[\"s\", \"label\", \"type\", \"abstract\", \"category\"])\n",
    "df_train.reset_index(drop=True)\n",
    "df_train.groupby('category').s.count()"
   ]
  },
  {
   "cell_type": "code",
   "execution_count": 72,
   "metadata": {},
   "outputs": [],
   "source": [
    "df_train['category_id'], uniques = df_train['category'].factorize()\n",
    "#df_train.set_index(['s', 'y'])\n",
    "#columns = [\"s\", \"label\", \"type\", \"abstract\", \"y\"]\n",
    "#df_train = df_train.reindex(columns=columns)\n",
    "#df_train[columns] = df_train[columns].astype(int)"
   ]
  },
  {
   "cell_type": "code",
   "execution_count": 73,
   "metadata": {},
   "outputs": [
    {
     "data": {
      "text/plain": [
       "Index(['PER', 'ORG', 'LOC', 'MISC'], dtype='object')"
      ]
     },
     "execution_count": 73,
     "metadata": {},
     "output_type": "execute_result"
    }
   ],
   "source": [
    "uniques"
   ]
  },
  {
   "cell_type": "code",
   "execution_count": 74,
   "metadata": {},
   "outputs": [
    {
     "data": {
      "text/plain": [
       "(array([0, 0, 0, ..., 3, 3, 3]),\n",
       " Index(['PER', 'ORG', 'LOC', 'MISC'], dtype='object'))"
      ]
     },
     "execution_count": 74,
     "metadata": {},
     "output_type": "execute_result"
    }
   ],
   "source": [
    "df_train['category'].factorize()"
   ]
  },
  {
   "cell_type": "code",
   "execution_count": 75,
   "metadata": {},
   "outputs": [],
   "source": [
    "category_id_df = df_train[['category', 'category_id']].drop_duplicates().sort_values('category_id')"
   ]
  },
  {
   "cell_type": "code",
   "execution_count": 76,
   "metadata": {},
   "outputs": [
    {
     "data": {
      "text/html": [
       "<div>\n",
       "<style scoped>\n",
       "    .dataframe tbody tr th:only-of-type {\n",
       "        vertical-align: middle;\n",
       "    }\n",
       "\n",
       "    .dataframe tbody tr th {\n",
       "        vertical-align: top;\n",
       "    }\n",
       "\n",
       "    .dataframe thead th {\n",
       "        text-align: right;\n",
       "    }\n",
       "</style>\n",
       "<table border=\"1\" class=\"dataframe\">\n",
       "  <thead>\n",
       "    <tr style=\"text-align: right;\">\n",
       "      <th></th>\n",
       "      <th>category</th>\n",
       "      <th>category_id</th>\n",
       "    </tr>\n",
       "  </thead>\n",
       "  <tbody>\n",
       "    <tr>\n",
       "      <th>0</th>\n",
       "      <td>PER</td>\n",
       "      <td>0</td>\n",
       "    </tr>\n",
       "    <tr>\n",
       "      <th>20000</th>\n",
       "      <td>ORG</td>\n",
       "      <td>1</td>\n",
       "    </tr>\n",
       "    <tr>\n",
       "      <th>32292</th>\n",
       "      <td>LOC</td>\n",
       "      <td>2</td>\n",
       "    </tr>\n",
       "    <tr>\n",
       "      <th>52292</th>\n",
       "      <td>MISC</td>\n",
       "      <td>3</td>\n",
       "    </tr>\n",
       "  </tbody>\n",
       "</table>\n",
       "</div>"
      ],
      "text/plain": [
       "      category  category_id\n",
       "0          PER            0\n",
       "20000      ORG            1\n",
       "32292      LOC            2\n",
       "52292     MISC            3"
      ]
     },
     "execution_count": 76,
     "metadata": {},
     "output_type": "execute_result"
    }
   ],
   "source": [
    "category_id_df"
   ]
  },
  {
   "cell_type": "code",
   "execution_count": 77,
   "metadata": {},
   "outputs": [],
   "source": [
    "enc = category_id_df.values"
   ]
  },
  {
   "cell_type": "code",
   "execution_count": 78,
   "metadata": {},
   "outputs": [
    {
     "data": {
      "text/plain": [
       "{'PER': 0, 'ORG': 1, 'LOC': 2, 'MISC': 3}"
      ]
     },
     "execution_count": 78,
     "metadata": {},
     "output_type": "execute_result"
    }
   ],
   "source": [
    "dict(enc)"
   ]
  },
  {
   "cell_type": "code",
   "execution_count": 79,
   "metadata": {},
   "outputs": [
    {
     "data": {
      "text/plain": [
       "['encoder_4MUC_cat2id_id2cat.joblib']"
      ]
     },
     "execution_count": 79,
     "metadata": {},
     "output_type": "execute_result"
    }
   ],
   "source": [
    "category2idx = dict(category_id_df.values)\n",
    "idx2category = dict(category_id_df[['category_id', 'category']].values)\n",
    "joblib.dump((category2idx, idx2category), 'encoder_4MUC_cat2id_id2cat.joblib')"
   ]
  },
  {
   "cell_type": "code",
   "execution_count": 80,
   "metadata": {},
   "outputs": [
    {
     "data": {
      "text/plain": [
       "{'PER': 0, 'ORG': 1, 'LOC': 2, 'MISC': 3}"
      ]
     },
     "execution_count": 80,
     "metadata": {},
     "output_type": "execute_result"
    }
   ],
   "source": [
    "category2idx"
   ]
  },
  {
   "cell_type": "code",
   "execution_count": 81,
   "metadata": {},
   "outputs": [
    {
     "data": {
      "text/plain": [
       "{0: 'PER', 1: 'ORG', 2: 'LOC', 3: 'MISC'}"
      ]
     },
     "execution_count": 81,
     "metadata": {},
     "output_type": "execute_result"
    }
   ],
   "source": [
    "idx2category"
   ]
  },
  {
   "cell_type": "code",
   "execution_count": 82,
   "metadata": {},
   "outputs": [
    {
     "data": {
      "text/plain": [
       "'PER'"
      ]
     },
     "execution_count": 82,
     "metadata": {},
     "output_type": "execute_result"
    }
   ],
   "source": [
    "idx2category[0]"
   ]
  },
  {
   "cell_type": "code",
   "execution_count": 83,
   "metadata": {},
   "outputs": [
    {
     "data": {
      "text/html": [
       "<div>\n",
       "<style scoped>\n",
       "    .dataframe tbody tr th:only-of-type {\n",
       "        vertical-align: middle;\n",
       "    }\n",
       "\n",
       "    .dataframe tbody tr th {\n",
       "        vertical-align: top;\n",
       "    }\n",
       "\n",
       "    .dataframe thead th {\n",
       "        text-align: right;\n",
       "    }\n",
       "</style>\n",
       "<table border=\"1\" class=\"dataframe\">\n",
       "  <thead>\n",
       "    <tr style=\"text-align: right;\">\n",
       "      <th></th>\n",
       "      <th>s</th>\n",
       "      <th>label</th>\n",
       "      <th>type</th>\n",
       "      <th>abstract</th>\n",
       "      <th>category</th>\n",
       "      <th>category_id</th>\n",
       "    </tr>\n",
       "  </thead>\n",
       "  <tbody>\n",
       "    <tr>\n",
       "      <th>0</th>\n",
       "      <td>http://dbpedia.org/resource/Andreas_Ekberg</td>\n",
       "      <td>Andreas Ekberg</td>\n",
       "      <td>http://dbpedia.org/ontology/Person</td>\n",
       "      <td>Andreas Ekberg (born 2 January 1985) is a Swed...</td>\n",
       "      <td>PER</td>\n",
       "      <td>0</td>\n",
       "    </tr>\n",
       "    <tr>\n",
       "      <th>1</th>\n",
       "      <td>http://dbpedia.org/resource/Danilo_Tognon</td>\n",
       "      <td>Danilo Tognon</td>\n",
       "      <td>http://dbpedia.org/ontology/Person</td>\n",
       "      <td>The Canoeist Danilo Tognon (born October 9, 19...</td>\n",
       "      <td>PER</td>\n",
       "      <td>0</td>\n",
       "    </tr>\n",
       "    <tr>\n",
       "      <th>2</th>\n",
       "      <td>http://dbpedia.org/resource/Lorine_Livington_P...</td>\n",
       "      <td>Lorine Livington Pruette</td>\n",
       "      <td>http://dbpedia.org/ontology/Person</td>\n",
       "      <td>Lorine Livington Pruette (1896–1977) was an Am...</td>\n",
       "      <td>PER</td>\n",
       "      <td>0</td>\n",
       "    </tr>\n",
       "    <tr>\n",
       "      <th>3</th>\n",
       "      <td>http://dbpedia.org/resource/Megan_Lawrence</td>\n",
       "      <td>Megan Lawrence</td>\n",
       "      <td>http://dbpedia.org/ontology/Person</td>\n",
       "      <td>Megan Lawrence (born 1972) is an American actr...</td>\n",
       "      <td>PER</td>\n",
       "      <td>0</td>\n",
       "    </tr>\n",
       "    <tr>\n",
       "      <th>4</th>\n",
       "      <td>http://dbpedia.org/resource/Nikolaos_Ventouras</td>\n",
       "      <td>Nikolaos Ventouras</td>\n",
       "      <td>http://dbpedia.org/ontology/Person</td>\n",
       "      <td>Nikos Ventouras (August 31, 1899 – April 1, 19...</td>\n",
       "      <td>PER</td>\n",
       "      <td>0</td>\n",
       "    </tr>\n",
       "  </tbody>\n",
       "</table>\n",
       "</div>"
      ],
      "text/plain": [
       "                                                   s  \\\n",
       "0         http://dbpedia.org/resource/Andreas_Ekberg   \n",
       "1          http://dbpedia.org/resource/Danilo_Tognon   \n",
       "2  http://dbpedia.org/resource/Lorine_Livington_P...   \n",
       "3         http://dbpedia.org/resource/Megan_Lawrence   \n",
       "4     http://dbpedia.org/resource/Nikolaos_Ventouras   \n",
       "\n",
       "                      label                                type  \\\n",
       "0            Andreas Ekberg  http://dbpedia.org/ontology/Person   \n",
       "1             Danilo Tognon  http://dbpedia.org/ontology/Person   \n",
       "2  Lorine Livington Pruette  http://dbpedia.org/ontology/Person   \n",
       "3            Megan Lawrence  http://dbpedia.org/ontology/Person   \n",
       "4        Nikolaos Ventouras  http://dbpedia.org/ontology/Person   \n",
       "\n",
       "                                            abstract category  category_id  \n",
       "0  Andreas Ekberg (born 2 January 1985) is a Swed...      PER            0  \n",
       "1  The Canoeist Danilo Tognon (born October 9, 19...      PER            0  \n",
       "2  Lorine Livington Pruette (1896–1977) was an Am...      PER            0  \n",
       "3  Megan Lawrence (born 1972) is an American actr...      PER            0  \n",
       "4  Nikos Ventouras (August 31, 1899 – April 1, 19...      PER            0  "
      ]
     },
     "execution_count": 83,
     "metadata": {},
     "output_type": "execute_result"
    }
   ],
   "source": [
    "df_train.head()"
   ]
  },
  {
   "cell_type": "code",
   "execution_count": 84,
   "metadata": {},
   "outputs": [
    {
     "data": {
      "image/png": "[encoded data removed]",
      "text/plain": [
       "<Figure size 576x432 with 1 Axes>"
      ]
     },
     "metadata": {
      "needs_background": "light"
     },
     "output_type": "display_data"
    }
   ],
   "source": [
    "fig = plt.figure(figsize=(8,6))\n",
    "df_train.groupby('category').label.count().plot.bar(ylim=0)\n",
    "plt.show()"
   ]
  },
  {
   "cell_type": "markdown",
   "metadata": {},
   "source": [
    "## Feature Extraction"
   ]
  },
  {
   "cell_type": "code",
   "execution_count": 85,
   "metadata": {},
   "outputs": [],
   "source": [
    "X_train, X_test, y_train, y_test, indices_train, indices_test =\\\n",
    "    train_test_split(df_train['abstract'].astype(str), \n",
    "                     df_train['category_id'], \n",
    "                     df_train.index,\n",
    "                     test_size=0.33,\n",
    "                     random_state=0)\n",
    "#count_vect = CountVectorizer()\n",
    "#X_train_counts = count_vect.fit_transform(X_train)\n",
    "#tfidf_transformer = TfidfTransformer()\n",
    "#X_train_tfidf = tfidf_transformer.fit_transform(X_train_counts)"
   ]
  },
  {
   "cell_type": "code",
   "execution_count": 86,
   "metadata": {},
   "outputs": [],
   "source": [
    "stat1 = y_train.groupby(lambda x: y_train[x])\n",
    "stat2 = y_test.groupby(lambda x: y_test[x])"
   ]
  },
  {
   "cell_type": "code",
   "execution_count": 87,
   "metadata": {},
   "outputs": [
    {
     "data": {
      "text/plain": [
       "0    13451\n",
       "1     8275\n",
       "2    13324\n",
       "3    13365\n",
       "Name: category_id, dtype: int64"
      ]
     },
     "execution_count": 87,
     "metadata": {},
     "output_type": "execute_result"
    }
   ],
   "source": [
    "stat1.size()"
   ]
  },
  {
   "cell_type": "code",
   "execution_count": 88,
   "metadata": {},
   "outputs": [
    {
     "data": {
      "text/plain": [
       "0    6549\n",
       "1    4017\n",
       "2    6676\n",
       "3    6605\n",
       "Name: category_id, dtype: int64"
      ]
     },
     "execution_count": 88,
     "metadata": {},
     "output_type": "execute_result"
    }
   ],
   "source": [
    "stat2.size()"
   ]
  },
  {
   "cell_type": "code",
   "execution_count": 89,
   "metadata": {},
   "outputs": [
    {
     "data": {
      "text/plain": [
       "['feature_extract_tfidf_ngram2_5000.joblib']"
      ]
     },
     "execution_count": 89,
     "metadata": {},
     "output_type": "execute_result"
    }
   ],
   "source": [
    "NR_MAX_FEATURES = 5000\n",
    "tfidf = TfidfVectorizer(sublinear_tf=True, \n",
    "                        use_idf=True,\n",
    "                        min_df=5, \n",
    "                        norm='l2', \n",
    "                        encoding='latin-1', \n",
    "                        ngram_range=(1, 2), \n",
    "                        stop_words=stop_words,\n",
    "                        max_features=NR_MAX_FEATURES)\n",
    "features_train = tfidf.fit_transform(X_train) #.toarray()\n",
    "features_test = tfidf.transform(X_test)\n",
    "#labels_train = df_train.category_id\n",
    "joblib.dump(tfidf, 'feature_extract_tfidf_ngram2_' + str(NR_MAX_FEATURES) + '.joblib')\n",
    "# total of abstracts x nr. of features per abstract"
   ]
  },
  {
   "cell_type": "code",
   "execution_count": 90,
   "metadata": {},
   "outputs": [
    {
     "ename": "NameError",
     "evalue": "name 'features' is not defined",
     "output_type": "error",
     "traceback": [
      "\u001b[0;31m---------------------------------------------------------------------------\u001b[0m",
      "\u001b[0;31mNameError\u001b[0m                                 Traceback (most recent call last)",
      "\u001b[0;32m<ipython-input-90-ce5d0f26b013>\u001b[0m in \u001b[0;36m<module>\u001b[0;34m\u001b[0m\n\u001b[0;32m----> 1\u001b[0;31m \u001b[0mfeatures\u001b[0m\u001b[0;34m.\u001b[0m\u001b[0mshape\u001b[0m\u001b[0;34m\u001b[0m\u001b[0;34m\u001b[0m\u001b[0m\n\u001b[0m",
      "\u001b[0;31mNameError\u001b[0m: name 'features' is not defined"
     ]
    }
   ],
   "source": [
    "features.shape"
   ]
  },
  {
   "cell_type": "code",
   "execution_count": 91,
   "metadata": {},
   "outputs": [
    {
     "ename": "NameError",
     "evalue": "name 'category_to_id' is not defined",
     "output_type": "error",
     "traceback": [
      "\u001b[0;31m---------------------------------------------------------------------------\u001b[0m",
      "\u001b[0;31mNameError\u001b[0m                                 Traceback (most recent call last)",
      "\u001b[0;32m<ipython-input-91-d06d8efaf2e6>\u001b[0m in \u001b[0;36m<module>\u001b[0;34m\u001b[0m\n\u001b[1;32m      1\u001b[0m \u001b[0mN\u001b[0m \u001b[0;34m=\u001b[0m \u001b[0;36m2\u001b[0m\u001b[0;34m\u001b[0m\u001b[0;34m\u001b[0m\u001b[0m\n\u001b[0;32m----> 2\u001b[0;31m \u001b[0;32mfor\u001b[0m \u001b[0mcategory\u001b[0m\u001b[0;34m,\u001b[0m \u001b[0mcategory_id\u001b[0m \u001b[0;32min\u001b[0m \u001b[0msorted\u001b[0m\u001b[0;34m(\u001b[0m\u001b[0mcategory_to_id\u001b[0m\u001b[0;34m.\u001b[0m\u001b[0mitems\u001b[0m\u001b[0;34m(\u001b[0m\u001b[0;34m)\u001b[0m\u001b[0;34m)\u001b[0m\u001b[0;34m:\u001b[0m\u001b[0;34m\u001b[0m\u001b[0;34m\u001b[0m\u001b[0m\n\u001b[0m\u001b[1;32m      3\u001b[0m     \u001b[0;32mbreak\u001b[0m\u001b[0;34m\u001b[0m\u001b[0;34m\u001b[0m\u001b[0m\n\u001b[1;32m      4\u001b[0m     \u001b[0mfeatures_chi2\u001b[0m \u001b[0;34m=\u001b[0m \u001b[0mchi2\u001b[0m\u001b[0;34m(\u001b[0m\u001b[0mfeatures\u001b[0m\u001b[0;34m,\u001b[0m \u001b[0mlabels\u001b[0m \u001b[0;34m==\u001b[0m \u001b[0mcategory_id\u001b[0m\u001b[0;34m)\u001b[0m\u001b[0;34m\u001b[0m\u001b[0;34m\u001b[0m\u001b[0m\n\u001b[1;32m      5\u001b[0m     \u001b[0mindices\u001b[0m \u001b[0;34m=\u001b[0m \u001b[0mnp\u001b[0m\u001b[0;34m.\u001b[0m\u001b[0margsort\u001b[0m\u001b[0;34m(\u001b[0m\u001b[0mfeatures_chi2\u001b[0m\u001b[0;34m[\u001b[0m\u001b[0;36m0\u001b[0m\u001b[0;34m]\u001b[0m\u001b[0;34m)\u001b[0m\u001b[0;34m\u001b[0m\u001b[0;34m\u001b[0m\u001b[0m\n",
      "\u001b[0;31mNameError\u001b[0m: name 'category_to_id' is not defined"
     ]
    }
   ],
   "source": [
    "N = 2\n",
    "for category, category_id in sorted(category_to_id.items()):\n",
    "    break\n",
    "    features_chi2 = chi2(features, labels == category_id)\n",
    "    indices = np.argsort(features_chi2[0])\n",
    "    feature_names = np.array(tfidf.get_feature_names())[indices]\n",
    "    unigrams = [v for v in feature_names if len(v.split(' ')) == 1]\n",
    "    bigrams = [v for v in feature_names if len(v.split(' ')) == 2]\n",
    "    print(\"# '{}':\".format(category))\n",
    "    print(\"  . most correlated unigrams:\\n. {}\".format('\\n. '.join(unigrams[-N:])))\n",
    "    print(\"  . most correlated bigrams:\\n. {}\".format('\\n. '.join(bigrams[-N:])))"
   ]
  },
  {
   "cell_type": "markdown",
   "metadata": {},
   "source": [
    "### Train, Test sets."
   ]
  },
  {
   "cell_type": "code",
   "execution_count": 92,
   "metadata": {},
   "outputs": [],
   "source": [
    "clf = MultinomialNB().fit(features_train, y_train)"
   ]
  },
  {
   "cell_type": "code",
   "execution_count": 93,
   "metadata": {},
   "outputs": [
    {
     "data": {
      "text/plain": [
       "pandas.core.series.Series"
      ]
     },
     "execution_count": 93,
     "metadata": {},
     "output_type": "execute_result"
    }
   ],
   "source": [
    "type(X_train)"
   ]
  },
  {
   "cell_type": "code",
   "execution_count": 94,
   "metadata": {},
   "outputs": [
    {
     "name": "stdout",
     "output_type": "stream",
     "text": [
      "[2]\n"
     ]
    }
   ],
   "source": [
    "print(clf.predict(tfidf.transform([\"Diego was born in Mars and currently lives in Venus, which is a city located at Polo.\"])))"
   ]
  },
  {
   "cell_type": "code",
   "execution_count": 95,
   "metadata": {},
   "outputs": [
    {
     "ename": "NameError",
     "evalue": "name 'labels' is not defined",
     "output_type": "error",
     "traceback": [
      "\u001b[0;31m---------------------------------------------------------------------------\u001b[0m",
      "\u001b[0;31mNameError\u001b[0m                                 Traceback (most recent call last)",
      "\u001b[0;32m<ipython-input-95-ae43f30abac1>\u001b[0m in \u001b[0;36m<module>\u001b[0;34m\u001b[0m\n\u001b[0;32m----> 1\u001b[0;31m \u001b[0mlen\u001b[0m\u001b[0;34m(\u001b[0m\u001b[0mlabels\u001b[0m\u001b[0;34m)\u001b[0m\u001b[0;34m\u001b[0m\u001b[0;34m\u001b[0m\u001b[0m\n\u001b[0m",
      "\u001b[0;31mNameError\u001b[0m: name 'labels' is not defined"
     ]
    }
   ],
   "source": [
    "len(labels)"
   ]
  },
  {
   "cell_type": "markdown",
   "metadata": {},
   "source": [
    "## Benchmark"
   ]
  },
  {
   "cell_type": "code",
   "execution_count": 96,
   "metadata": {
    "pycharm": {
     "is_executing": true
    }
   },
   "outputs": [
    {
     "name": "stdout",
     "output_type": "stream",
     "text": [
      "LinearSVC\n",
      "0 0.9573703451267117\n",
      "1 0.9610856363861693\n",
      "2 0.9594125666129631\n",
      "CalibratedClassifierCV\n",
      "0 0.9592291963566516\n",
      "1 0.9624488784235965\n",
      "2 0.9604659809146114\n",
      "LogisticRegression\n",
      "0 0.9582997707416816\n",
      "1 0.9618292229520387\n",
      "2 0.9591027388771843\n"
     ]
    }
   ],
   "source": [
    "models = [\n",
    "    #RandomForestClassifier(n_estimators=200, max_depth=3, random_state=0),\n",
    "    LinearSVC(),\n",
    "    CalibratedClassifierCV(LinearSVC()),\n",
    "    #LogisticRegression(random_state=0)\n",
    "    LogisticRegression(multi_class=\"multinomial\", solver=\"sag\", C=5, random_state=0)\n",
    "]\n",
    "CV = 3\n",
    "cv_df = pd.DataFrame(index=range(CV * len(models)))\n",
    "entries = []\n",
    "for model in models:\n",
    "    model_name = model.__class__.__name__\n",
    "    print(model_name)\n",
    "    accuracies = cross_val_score(model, features_train, y_train, scoring='accuracy', cv=CV)\n",
    "    for fold_idx, accuracy in enumerate(accuracies):\n",
    "        print(fold_idx, accuracy)\n",
    "        entries.append((model_name, fold_idx, accuracy))\n",
    "        cv_df = pd.DataFrame(entries, columns=['model_name', 'fold_idx', 'accuracy'])"
   ]
  },
  {
   "cell_type": "code",
   "execution_count": 97,
   "metadata": {
    "pycharm": {
     "is_executing": true
    }
   },
   "outputs": [
    {
     "data": {
      "image/png": "[encoded data removed]",
      "text/plain": [
       "<Figure size 432x288 with 1 Axes>"
      ]
     },
     "metadata": {
      "needs_background": "light"
     },
     "output_type": "display_data"
    }
   ],
   "source": [
    "sns.boxplot(x='model_name', y='accuracy', data=cv_df)\n",
    "sns.stripplot(x='model_name', y='accuracy', data=cv_df, \n",
    "              size=8, jitter=True, edgecolor=\"gray\", linewidth=2)\n",
    "plt.show()"
   ]
  },
  {
   "cell_type": "code",
   "execution_count": 98,
   "metadata": {
    "pycharm": {
     "is_executing": true
    }
   },
   "outputs": [
    {
     "data": {
      "text/plain": [
       "model_name\n",
       "CalibratedClassifierCV    0.960715\n",
       "LinearSVC                 0.959290\n",
       "LogisticRegression        0.959744\n",
       "Name: accuracy, dtype: float64"
      ]
     },
     "execution_count": 98,
     "metadata": {},
     "output_type": "execute_result"
    }
   ],
   "source": [
    "cv_df.groupby('model_name').accuracy.mean()"
   ]
  },
  {
   "cell_type": "markdown",
   "metadata": {},
   "source": [
    "## Model Evaluation"
   ]
  },
  {
   "cell_type": "markdown",
   "metadata": {},
   "source": [
    "### Shared functions"
   ]
  },
  {
   "cell_type": "code",
   "execution_count": null,
   "metadata": {},
   "outputs": [],
   "source": []
  },
  {
   "cell_type": "code",
   "execution_count": 99,
   "metadata": {},
   "outputs": [],
   "source": [
    "def print_train_test_save_print(cls, cls_label, sentence, multik_prob: bool = True):\n",
    "    print('training')\n",
    "    cls.fit(features_train, y_train)\n",
    "    print('saving')\n",
    "    joblib.dump(cls, cls_label)\n",
    "    print('predict')\n",
    "    y_pred = cls.predict(features_test)\n",
    "    print('report')\n",
    "    conf_mat = prot_matrix(y_test, y_pred, category_id_df.category.values, category_id_df.category.values)\n",
    "    print()\n",
    "    print(metrics.classification_report(y_test, y_pred, target_names=list(category2idx.keys())))\n",
    "    print()\n",
    "    x = tfidf.transform([sentence])\n",
    "    if multik_prob:\n",
    "        out = [(round(p, 3)) for p in cls.predict_proba(x)[0]]\n",
    "    else:\n",
    "        out = cls.predict(x)\n",
    "    print(out)"
   ]
  },
  {
   "cell_type": "code",
   "execution_count": 100,
   "metadata": {
    "pycharm": {
     "is_executing": true
    }
   },
   "outputs": [],
   "source": [
    "def prot_matrix(y_test, y_pred, xticklabels, yticklabels):\n",
    "    conf_mat = confusion_matrix(y_test, y_pred)\n",
    "    fig, ax = plt.subplots(figsize=(7,7))\n",
    "    sns.heatmap(conf_mat, annot=True, fmt='d',\n",
    "                xticklabels=xticklabels, yticklabels=yticklabels)\n",
    "    plt.ylabel('Actual')\n",
    "    plt.xlabel('Predicted')\n",
    "    plt.show()\n",
    "    return conf_mat"
   ]
  },
  {
   "cell_type": "markdown",
   "metadata": {},
   "source": [
    "### CalibratedClassifierCV"
   ]
  },
  {
   "cell_type": "code",
   "execution_count": 101,
   "metadata": {
    "pycharm": {
     "is_executing": true
    }
   },
   "outputs": [
    {
     "name": "stdout",
     "output_type": "stream",
     "text": [
      "training\n",
      "saving\n",
      "predict\n",
      "report\n"
     ]
    },
    {
     "data": {
      "image/png": "[encoded data removed]",
      "text/plain": [
       "<Figure size 504x504 with 2 Axes>"
      ]
     },
     "metadata": {
      "needs_background": "light"
     },
     "output_type": "display_data"
    },
    {
     "name": "stdout",
     "output_type": "stream",
     "text": [
      "\n",
      "              precision    recall  f1-score   support\n",
      "\n",
      "         PER       0.96      0.95      0.96      6549\n",
      "         ORG       0.92      0.93      0.92      4017\n",
      "         LOC       0.99      0.99      0.99      6676\n",
      "        MISC       0.96      0.96      0.96      6605\n",
      "\n",
      "    accuracy                           0.96     23847\n",
      "   macro avg       0.96      0.96      0.96     23847\n",
      "weighted avg       0.96      0.96      0.96     23847\n",
      "\n",
      "\n",
      "[0.0, 0.001, 0.754, 0.245]\n"
     ]
    }
   ],
   "source": [
    "cls_calibrated = CalibratedClassifierCV(LinearSVC())\n",
    "\n",
    "print_train_test_save_print(cls=cls_calibrated, \n",
    "                            cls_label='multi_cls-calib_linear.joblib',\n",
    "                            sentence=sentence,\n",
    "                            multik_prob=True)"
   ]
  },
  {
   "cell_type": "markdown",
   "metadata": {},
   "source": [
    "### One-vs-all (OvR) strategy"
   ]
  },
  {
   "cell_type": "code",
   "execution_count": 102,
   "metadata": {},
   "outputs": [
    {
     "name": "stdout",
     "output_type": "stream",
     "text": [
      "training\n",
      "saving\n",
      "predict\n",
      "report\n"
     ]
    },
    {
     "data": {
      "image/png": "[encoded data removed]",
      "text/plain": [
       "<Figure size 504x504 with 2 Axes>"
      ]
     },
     "metadata": {
      "needs_background": "light"
     },
     "output_type": "display_data"
    },
    {
     "name": "stdout",
     "output_type": "stream",
     "text": [
      "\n",
      "              precision    recall  f1-score   support\n",
      "\n",
      "         PER       0.96      0.95      0.95      6549\n",
      "         ORG       0.92      0.92      0.92      4017\n",
      "         LOC       0.99      0.99      0.99      6676\n",
      "        MISC       0.95      0.96      0.96      6605\n",
      "\n",
      "    accuracy                           0.96     23847\n",
      "   macro avg       0.96      0.96      0.96     23847\n",
      "weighted avg       0.96      0.96      0.96     23847\n",
      "\n",
      "\n",
      "[2]\n"
     ]
    }
   ],
   "source": [
    "ovr_linear = OneVsRestClassifier(LinearSVC(), n_jobs=-1)\n",
    "\n",
    "print_train_test_save_print(cls=ovr_linear, \n",
    "                            cls_label='ovr_cls-linearSVC.joblib',\n",
    "                            sentence=sentence,\n",
    "                            multik_prob=False)"
   ]
  },
  {
   "cell_type": "markdown",
   "metadata": {},
   "source": [
    "### XGBoost"
   ]
  },
  {
   "cell_type": "code",
   "execution_count": 103,
   "metadata": {},
   "outputs": [
    {
     "name": "stdout",
     "output_type": "stream",
     "text": [
      "training\n",
      "saving\n",
      "predict\n",
      "report\n"
     ]
    },
    {
     "data": {
      "image/png": "[encoded data removed]",
      "text/plain": [
       "<Figure size 504x504 with 2 Axes>"
      ]
     },
     "metadata": {
      "needs_background": "light"
     },
     "output_type": "display_data"
    },
    {
     "name": "stdout",
     "output_type": "stream",
     "text": [
      "\n",
      "              precision    recall  f1-score   support\n",
      "\n",
      "         PER       0.95      0.93      0.94      6549\n",
      "         ORG       0.91      0.91      0.91      4017\n",
      "         LOC       0.99      0.99      0.99      6676\n",
      "        MISC       0.94      0.95      0.94      6605\n",
      "\n",
      "    accuracy                           0.95     23847\n",
      "   macro avg       0.95      0.95      0.95     23847\n",
      "weighted avg       0.95      0.95      0.95     23847\n",
      "\n",
      "\n",
      "[0.023, 0.033, 0.888, 0.055]\n"
     ]
    }
   ],
   "source": [
    "xgb_model = xgb.XGBClassifier(objective=\"multi:softprob\", \n",
    "                              num_class=4, \n",
    "                              max_depth=5, \n",
    "                              random_state=42)\n",
    "\n",
    "print_train_test_save_print(cls=xgb_model, \n",
    "                            cls_label='multi_cls-xgboost.joblib',\n",
    "                            sentence=sentence,\n",
    "                            multik_prob=True)"
   ]
  },
  {
   "cell_type": "markdown",
   "metadata": {},
   "source": [
    "## Feature Selection Analysis"
   ]
  },
  {
   "cell_type": "code",
   "execution_count": 104,
   "metadata": {
    "pycharm": {
     "is_executing": true
    }
   },
   "outputs": [],
   "source": [
    "for predicted in category_id_df.category_id:\n",
    "    break\n",
    "    for actual in category_id_df.category_id:\n",
    "        if predicted != actual and conf_mat[actual, predicted] >= 10:\n",
    "            print(\"'{}' pred as '{}' : {} examples.\".format(id_to_category[actual], id_to_category[predicted], conf_mat[actual, predicted]))\n",
    "            display(df_train.loc[indices_test[(y_test == actual) & (y_pred == predicted)]][['category', 'abstract']])\n",
    "            print('')"
   ]
  },
  {
   "cell_type": "code",
   "execution_count": 105,
   "metadata": {
    "pycharm": {
     "is_executing": true
    }
   },
   "outputs": [
    {
     "ename": "NameError",
     "evalue": "name 'category_to_id' is not defined",
     "output_type": "error",
     "traceback": [
      "\u001b[0;31m---------------------------------------------------------------------------\u001b[0m",
      "\u001b[0;31mNameError\u001b[0m                                 Traceback (most recent call last)",
      "\u001b[0;32m<ipython-input-105-d625b6cb5b5a>\u001b[0m in \u001b[0;36m<module>\u001b[0;34m\u001b[0m\n\u001b[1;32m      1\u001b[0m \u001b[0;31m#model.fit(features, labels)\u001b[0m\u001b[0;34m\u001b[0m\u001b[0;34m\u001b[0m\u001b[0;34m\u001b[0m\u001b[0m\n\u001b[1;32m      2\u001b[0m \u001b[0mN\u001b[0m \u001b[0;34m=\u001b[0m \u001b[0;36m2\u001b[0m\u001b[0;34m\u001b[0m\u001b[0;34m\u001b[0m\u001b[0m\n\u001b[0;32m----> 3\u001b[0;31m \u001b[0;32mfor\u001b[0m \u001b[0mcategory\u001b[0m\u001b[0;34m,\u001b[0m \u001b[0mcategory_id\u001b[0m \u001b[0;32min\u001b[0m \u001b[0msorted\u001b[0m\u001b[0;34m(\u001b[0m\u001b[0mcategory_to_id\u001b[0m\u001b[0;34m.\u001b[0m\u001b[0mitems\u001b[0m\u001b[0;34m(\u001b[0m\u001b[0;34m)\u001b[0m\u001b[0;34m)\u001b[0m\u001b[0;34m:\u001b[0m\u001b[0;34m\u001b[0m\u001b[0;34m\u001b[0m\u001b[0m\n\u001b[0m\u001b[1;32m      4\u001b[0m     \u001b[0;32mbreak\u001b[0m\u001b[0;34m\u001b[0m\u001b[0;34m\u001b[0m\u001b[0m\n\u001b[1;32m      5\u001b[0m     \u001b[0mindices\u001b[0m \u001b[0;34m=\u001b[0m \u001b[0mnp\u001b[0m\u001b[0;34m.\u001b[0m\u001b[0margsort\u001b[0m\u001b[0;34m(\u001b[0m\u001b[0mmodel\u001b[0m\u001b[0;34m.\u001b[0m\u001b[0mcoef_\u001b[0m\u001b[0;34m[\u001b[0m\u001b[0mcategory_id\u001b[0m\u001b[0;34m]\u001b[0m\u001b[0;34m)\u001b[0m\u001b[0;34m\u001b[0m\u001b[0;34m\u001b[0m\u001b[0m\n",
      "\u001b[0;31mNameError\u001b[0m: name 'category_to_id' is not defined"
     ]
    }
   ],
   "source": [
    "#model.fit(features, labels)\n",
    "N = 2\n",
    "for category, category_id in sorted(category_to_id.items()):\n",
    "    break\n",
    "    indices = np.argsort(model.coef_[category_id])\n",
    "    feature_names = np.array(tfidf.get_feature_names())[indices]\n",
    "    unigrams = [v for v in reversed(feature_names) if len(v.split(' ')) == 1][:N]\n",
    "    bigrams = [v for v in reversed(feature_names) if len(v.split(' ')) == 2][:N]\n",
    "    print(\"# '{}':\".format(category))\n",
    "    print(\"  top unigrams:\\n       . {}\".format('\\n       . '.join(unigrams)))\n",
    "    print(\"  top bigrams:\\n       . {}\".format('\\n       . '.join(bigrams)))"
   ]
  },
  {
   "cell_type": "code",
   "execution_count": 106,
   "metadata": {},
   "outputs": [
    {
     "ename": "NameError",
     "evalue": "name 'subset' is not defined",
     "output_type": "error",
     "traceback": [
      "\u001b[0;31m---------------------------------------------------------------------------\u001b[0m",
      "\u001b[0;31mNameError\u001b[0m                                 Traceback (most recent call last)",
      "\u001b[0;32m<ipython-input-106-6cb9fbbf29ca>\u001b[0m in \u001b[0;36m<module>\u001b[0;34m\u001b[0m\n\u001b[0;32m----> 1\u001b[0;31m \u001b[0mlen\u001b[0m\u001b[0;34m(\u001b[0m\u001b[0msubset\u001b[0m\u001b[0;34m.\u001b[0m\u001b[0mabstract\u001b[0m\u001b[0;34m.\u001b[0m\u001b[0mvalues\u001b[0m\u001b[0;34m)\u001b[0m\u001b[0;34m\u001b[0m\u001b[0;34m\u001b[0m\u001b[0m\n\u001b[0m",
      "\u001b[0;31mNameError\u001b[0m: name 'subset' is not defined"
     ]
    }
   ],
   "source": [
    "len(subset.abstract.values)"
   ]
  },
  {
   "cell_type": "code",
   "execution_count": 107,
   "metadata": {
    "pycharm": {
     "is_executing": true
    }
   },
   "outputs": [],
   "source": [
    "subset = df_train[df_train.category=='PER']"
   ]
  },
  {
   "cell_type": "code",
   "execution_count": 108,
   "metadata": {
    "pycharm": {
     "is_executing": true
    }
   },
   "outputs": [
    {
     "name": "stdout",
     "output_type": "stream",
     "text": [
      "Andreas Ekberg (born 2 January 1985) is a Swedish football referee. Ekberg currently resides in Malmö. He has been a full international referee for FIFA since 2013. He became a professional referee in 2004 and has been an Allsvenskan referee since 2009. Ekberg has refereed 74 matches in Allsvenskan, 55 matches in Superettan and 14 international matches as of 2014.\n"
     ]
    }
   ],
   "source": [
    "d = {}\n",
    "i = 0 \n",
    "for text in subset.abstract.values:\n",
    "    print(text)\n",
    "    break\n",
    "    print(i)\n",
    "    i+=1\n",
    "    if i == 100:\n",
    "        break\n",
    "    tokens = word_tokenize(text)\n",
    "    tokens_without_sw = [word.lower() for word in tokens if not word.lower() in stopwords.words()]\n",
    "    for token in tokens_without_sw:\n",
    "        d[token] = d.get(token, 0) + 1"
   ]
  },
  {
   "cell_type": "code",
   "execution_count": 109,
   "metadata": {
    "pycharm": {
     "is_executing": true
    }
   },
   "outputs": [
    {
     "data": {
      "text/plain": [
       "False"
      ]
     },
     "execution_count": 109,
     "metadata": {},
     "output_type": "execute_result"
    }
   ],
   "source": [
    "'.' in stopwords.words()"
   ]
  },
  {
   "cell_type": "code",
   "execution_count": 110,
   "metadata": {
    "pycharm": {
     "is_executing": true
    }
   },
   "outputs": [
    {
     "data": {
      "text/plain": [
       "0"
      ]
     },
     "execution_count": 110,
     "metadata": {},
     "output_type": "execute_result"
    }
   ],
   "source": [
    "#173498\n",
    "len(d) "
   ]
  },
  {
   "cell_type": "code",
   "execution_count": 111,
   "metadata": {
    "pycharm": {
     "is_executing": true
    }
   },
   "outputs": [],
   "source": [
    "i = 0\n",
    "for k in sorted(d, key=d.get, reverse=True):\n",
    "    print(k, d[k])\n",
    "    i += 1\n",
    "    if i > 10:\n",
    "        break"
   ]
  },
  {
   "cell_type": "code",
   "execution_count": 112,
   "metadata": {},
   "outputs": [],
   "source": [
    "categories = set(list(df_train.category))"
   ]
  },
  {
   "cell_type": "code",
   "execution_count": 113,
   "metadata": {},
   "outputs": [
    {
     "data": {
      "text/plain": [
       "0         PER\n",
       "1         PER\n",
       "2         PER\n",
       "3         PER\n",
       "4         PER\n",
       "5         PER\n",
       "6         PER\n",
       "7         PER\n",
       "8         PER\n",
       "9         PER\n",
       "10        PER\n",
       "11        PER\n",
       "12        PER\n",
       "13        PER\n",
       "14        PER\n",
       "15        PER\n",
       "16        PER\n",
       "17        PER\n",
       "18        PER\n",
       "19        PER\n",
       "20        PER\n",
       "21        PER\n",
       "22        PER\n",
       "23        PER\n",
       "24        PER\n",
       "25        PER\n",
       "26        PER\n",
       "27        PER\n",
       "28        PER\n",
       "29        PER\n",
       "         ... \n",
       "72232    MISC\n",
       "72233    MISC\n",
       "72234    MISC\n",
       "72235    MISC\n",
       "72236    MISC\n",
       "72237    MISC\n",
       "72238    MISC\n",
       "72239    MISC\n",
       "72240    MISC\n",
       "72241    MISC\n",
       "72242    MISC\n",
       "72243    MISC\n",
       "72244    MISC\n",
       "72245    MISC\n",
       "72246    MISC\n",
       "72247    MISC\n",
       "72248    MISC\n",
       "72249    MISC\n",
       "72250    MISC\n",
       "72251    MISC\n",
       "72252    MISC\n",
       "72253    MISC\n",
       "72254    MISC\n",
       "72255    MISC\n",
       "72256    MISC\n",
       "72257    MISC\n",
       "72258    MISC\n",
       "72259    MISC\n",
       "72260    MISC\n",
       "72261    MISC\n",
       "Name: category, Length: 72262, dtype: object"
      ]
     },
     "execution_count": 113,
     "metadata": {},
     "output_type": "execute_result"
    }
   ],
   "source": [
    "df_train.category"
   ]
  },
  {
   "cell_type": "code",
   "execution_count": null,
   "metadata": {},
   "outputs": [],
   "source": []
  },
  {
   "cell_type": "code",
   "execution_count": null,
   "metadata": {},
   "outputs": [],
   "source": []
  },
  {
   "cell_type": "code",
   "execution_count": null,
   "metadata": {},
   "outputs": [],
   "source": []
  },
  {
   "cell_type": "code",
   "execution_count": null,
   "metadata": {},
   "outputs": [],
   "source": []
  },
  {
   "cell_type": "code",
   "execution_count": null,
   "metadata": {},
   "outputs": [],
   "source": []
  }
 ],
 "metadata": {
  "kernelspec": {
   "display_name": "horus",
   "language": "python",
   "name": "horus"
  },
  "language_info": {
   "codemirror_mode": {
    "name": "ipython",
    "version": 3
   },
   "file_extension": ".py",
   "mimetype": "text/x-python",
   "name": "python",
   "nbconvert_exporter": "python",
   "pygments_lexer": "ipython3",
   "version": "3.7.4"
  }
 },
 "nbformat": 4,
 "nbformat_minor": 4
}
