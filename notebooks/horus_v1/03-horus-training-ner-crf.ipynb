{
 "cells": [
  {
   "cell_type": "markdown",
   "metadata": {
    "pycharm": {
     "is_executing": false
    }
   },
   "source": [
    "## Training: NER:CRF"
   ]
  },
  {
   "cell_type": "markdown",
   "metadata": {},
   "source": [
    "#### Param optimization"
   ]
  },
  {
   "cell_type": "code",
   "execution_count": 41,
   "metadata": {},
   "outputs": [],
   "source": [
    "import sys\n",
    "sys.path.append('/Users/diego.esteves/git/horus-ner')"
   ]
  },
  {
   "cell_type": "markdown",
   "metadata": {},
   "source": [
    "#### Training the model"
   ]
  },
  {
   "cell_type": "code",
   "execution_count": 42,
   "metadata": {},
   "outputs": [],
   "source": [
    "import sklearn_crfsuite\n",
    "from sklearn_crfsuite.metrics import flat_classification_report\n",
    "from sklearn.model_selection import cross_val_predict\n",
    "import eli5\n",
    "from src.horus_meta import HorusSentence, WordFeaturesInterface\n",
    "from src.definitions import PRE_PROCESSING_STATUS\n",
    "\n",
    "_crf = sklearn_crfsuite.CRF(algorithm='lbfgs', c1=0.088, c2=0.002, max_iterations=100, all_possible_transitions=True)"
   ]
  },
  {
   "cell_type": "code",
   "execution_count": 43,
   "metadata": {},
   "outputs": [],
   "source": [
    "import numpy as np\n",
    "\n",
    "def word2features_dynamic(sent: HorusSentence, i: int, pfeatures: dict):\n",
    "    word = sent.tokens[i].text\n",
    "    postag = sent.tokens[i].label_pos\n",
    "    \n",
    "    features = pfeatures.copy()\n",
    "    crf_features = {'bias': 1.0}\n",
    "    has_pos = 'postag' in features.values()\n",
    "    has_word = 'word.lower' in features.values()\n",
    "    feature_dict_lex, feature_dict_lex_rev = WordFeaturesInterface.get_lexical()\n",
    "\n",
    "    \n",
    "#    for f in range(0, len(train_on_feature_labels)):\n",
    "#        f_label = train_on_feature_labels[f]\n",
    "#        f_id = train_on_feature_ids[f]\n",
    "#        f_value = sent.tokens[i].features.lexical.values[f_id]\n",
    "#        crf_features.update(dict(f_label, f_value))\n",
    "    \n",
    "    # POS tag comes from horus.token instead of lexical features array[],\n",
    "    # so that we can safe delete after knowing it is required.\n",
    "    if has_pos:\n",
    "        del features['postag']\n",
    "        crf_features.update({'postag': sent.tokens[i].label_pos})\n",
    "        crf_features.update({'postag[:2]': sent.tokens[i].label_pos[:2]})\n",
    "\n",
    "\n",
    "    if has_word:\n",
    "        word_id = WordFeaturesInterface.get_key_by_value(dictionary=feature_dict_lex, feature_alias='word.lower')\n",
    "        crf_features.update({'word[-3]:': sent.tokens[i].features.lexical.values[word_id][-3:]})\n",
    "        crf_features.update({'word[-2]:': sent.tokens[i].features.lexical.values[word_id][-2:]})\n",
    " \n",
    "    #print(features)\n",
    "    #print(crf_features)\n",
    "    [crf_features.update({f_label: sent.tokens[i].features.lexical.values[f_id]}) for f_id, f_label in features.items()]\n",
    "    #print(crf_features)\n",
    "\n",
    "    if i > 0:\n",
    "#        features_pre = dict(('-1:' + definitions.schemaindex2label[key], sent.iloc[i-1].at[key]) for key in np.sort(sent.columns.values))\n",
    "        if has_pos:\n",
    "            crf_features.update({'-1:postag': sent.tokens[i-1].label_pos})\n",
    "            crf_features.update({'-1:postag[:2]': sent.tokens[i-1].label_pos[:2]})\n",
    "        [crf_features.update({'-1:' + f_label: sent.tokens[i-1].features.lexical.values[f_id]}) for f_id, f_label in features.items()]\n",
    "            \n",
    "    else:\n",
    "        crf_features['BOS'] = True\n",
    "\n",
    "    if i < len(sent.tokens) - 1:\n",
    "#        features_pos = dict(('+1:' + definitions.schemaindex2label[key], sent.iloc[i+1].at[key]) for key in np.sort(sent.columns.values))\n",
    "        if has_pos:\n",
    "            crf_features.update({'+1:postag': sent.tokens[i+1].label_pos})\n",
    "            crf_features.update({'+1:postag[:2]': sent.tokens[i+1].label_pos[:2]})\n",
    "        [crf_features.update({'+1:' + f_label: sent.tokens[i+1].features.lexical.values[f_id]}) for f_id, f_label in features.items()]\n",
    "    else:\n",
    "        crf_features['EOS'] = True\n",
    "\n",
    "    return crf_features"
   ]
  },
  {
   "cell_type": "code",
   "execution_count": 44,
   "metadata": {},
   "outputs": [],
   "source": [
    "def word2features(sent, i):\n",
    "    word = sent.tokens[i].text\n",
    "    postag = sent.tokens[i].label_pos\n",
    "\n",
    "    crf_features = {\n",
    "        'bias': 1.0,\n",
    "        'word[-3:]': word[-3:],\n",
    "        'word[-2:]': word[-2:],\n",
    "        'word.lower()': word.lower(),\n",
    "        'word.istitle()': word.istitle(),\n",
    "        'word.isupper()': word.isupper(),\n",
    "        'word.isdigit()': word.isdigit(),\n",
    "        'postag': postag,\n",
    "        'postag[:2]': postag[:2],\n",
    "    }\n",
    "    if i > 0:\n",
    "        word1 = sent.tokens[i-1].text\n",
    "        postag1 = sent.tokens[i-1].label_pos\n",
    "        crf_features.update({\n",
    "            '-1:word.lower()': word1.lower(),\n",
    "            '-1:word.istitle()': word1.istitle(),\n",
    "            '-1:word.isupper()': word1.isupper(),\n",
    "            '-1:word.isdigit()': word1.isdigit(),\n",
    "            '-1:postag': postag1,\n",
    "            '-1:postag[:2]': postag1[:2],\n",
    "        })\n",
    "    else:\n",
    "        crf_features['BOS'] = True\n",
    "\n",
    "    if i < len(sent.tokens)-1:\n",
    "        word1 = sent.tokens[i+1].text\n",
    "        postag1 = sent.tokens[i+1].label_pos\n",
    "        crf_features.update({\n",
    "            '+1:word.lower()': word1.lower(),\n",
    "            '+1:word.istitle()': word1.istitle(),\n",
    "            '+1:word.isupper()': word1.isupper(),\n",
    "            '+1:word.isdigit()': word1.isdigit(),\n",
    "            '+1:postag': postag1,\n",
    "            '+1:postag[:2]': postag1[:2],\n",
    "        })\n",
    "    else:\n",
    "        crf_features['EOS'] = True\n",
    "\n",
    "    return crf_features"
   ]
  },
  {
   "cell_type": "code",
   "execution_count": 45,
   "metadata": {},
   "outputs": [],
   "source": [
    "def sent2features_dynamic(sent, features: dict):\n",
    "    return [word2features_dynamic(sent, i, features) for i in range(len(sent.tokens))]"
   ]
  },
  {
   "cell_type": "code",
   "execution_count": 46,
   "metadata": {},
   "outputs": [],
   "source": [
    "def sent2features(sent):\n",
    "    return [word2features(sent, i) for i in range(len(sent.tokens))]"
   ]
  },
  {
   "cell_type": "code",
   "execution_count": 47,
   "metadata": {},
   "outputs": [],
   "source": [
    "def sent2labels(sent):\n",
    "    return [token.label_ner_gold for token in sent.tokens]"
   ]
  },
  {
   "cell_type": "code",
   "execution_count": 48,
   "metadata": {},
   "outputs": [
    {
     "name": "stderr",
     "output_type": "stream",
     "text": [
      "2020-04-30 19:53:31,136 [MainThread  ] [INFO ]  ==================================================================\n",
      "2020-04-30 19:53:31,142 [MainThread  ] [INFO ]  HORUS Framework\n",
      "2020-04-30 19:53:31,144 [MainThread  ] [INFO ]  version: 1.0\n",
      "2020-04-30 19:53:31,146 [MainThread  ] [INFO ]  http://horus-ner.org/\n",
      "2020-04-30 19:53:31,148 [MainThread  ] [INFO ]  ==================================================================\n"
     ]
    },
    {
     "name": "stdout",
     "output_type": "stream",
     "text": [
      ":: reading ok /Users/diego.esteves/git/horus-ner/horus.ini\n",
      "039284589743ff3295825\n",
      "['ritter.train', '/Volumes/dne5ssd/horus/resources/datasets/Ritter/', 'ner_short.txt.horusx']\n",
      "ok.\n",
      "123\n"
     ]
    }
   ],
   "source": [
    "from config import HorusConfig\n",
    "from src.horus_meta import HorusDataLoader, Horus\n",
    "from src import definitions\n",
    "\n",
    "# define the dataset to process\n",
    "dataset_label = 'ritter.train'\n",
    "\n",
    "config = HorusConfig()\n",
    "\n",
    "for ds in definitions.NER_DATASETS:\n",
    "    if ds[0] == dataset_label:\n",
    "        dataset = ds\n",
    "        break\n",
    "    \n",
    "print(dataset)\n",
    "\n",
    "conll_file = ds[1] + ds[2]\n",
    "conll_label = ds[0]\n",
    "assert '.horusx' in conll_file\n",
    "horus_file = conll_file.replace('.horusx', '.horus3.json')\n",
    "\n",
    "# get data\n",
    "horus = HorusDataLoader.load_metadata_from_file(file=horus_file)\n",
    "print('ok.')\n",
    "\n",
    "print(horus.processing_status)\n",
    "# make sure the horus file has been processed and features are in place\n",
    "assert (str(PRE_PROCESSING_STATUS[\"FEATURE_LEXICAL\"]) in horus.processing_status or\n",
    "        str(PRE_PROCESSING_STATUS[\"FEATURE_TEXT\"]) in horus.processing_status or\n",
    "        str(PRE_PROCESSING_STATUS[\"FEATURE_IMAGE\"]) in horus.processing_status)"
   ]
  },
  {
   "cell_type": "code",
   "execution_count": 49,
   "metadata": {},
   "outputs": [
    {
     "name": "stdout",
     "output_type": "stream",
     "text": [
      "features set - lexical\n",
      "{0: 'word.lower', 1: 'word.lemma', 2: 'word.stem', 3: 'word.len.1', 4: 'word.has.special', 5: 'word[0].isupper', 6: 'word.isupper', 7: 'word.istitle', 8: 'word.isdigit', 9: 'word.stop', 10: 'word.len.issmall', 11: 'word.has.minus', 12: 'word.shape', 13: 'brown_320.1', 14: 'brown_320.2', 15: 'brown_320.3', 16: 'brown_320.4', 17: 'brown_320.5', 18: 'brown_640.1', 19: 'brown_640.2', 20: 'brown_640.3', 21: 'brown_640.4', 22: 'brown_640.5', 23: 'brown_1000.1', 24: 'brown_1000.2', 25: 'brown_1000.3', 26: 'brown_1000.4', 27: 'brown_1000.5'}\n",
      "training on features:  {0: 'word.lower', 7: 'word.istitle', 6: 'word.isupper', 8: 'word.isdigit', 'postag': 'postag'}\n",
      "------------------------------------------------------------------------------------------------------------\n",
      "[{'bias': 1.0, 'postag': 'USR', 'postag[:2]': 'US', 'word[-3]:': 'alk', 'word[-2]:': 'lk', 'word.lower': '@paulwalk', 'word.istitle': 0, 'word.isupper': 0, 'word.isdigit': 0, 'BOS': True, '+1:postag': 'PRP', '+1:postag[:2]': 'PR', '+1:word.lower': 'it', '+1:word.istitle': 1, '+1:word.isupper': 0, '+1:word.isdigit': 0}, {'bias': 1.0, 'postag': 'PRP', 'postag[:2]': 'PR', 'word[-3]:': 'it', 'word[-2]:': 'it', 'word.lower': 'it', 'word.istitle': 1, 'word.isupper': 0, 'word.isdigit': 0, '-1:postag': 'USR', '-1:postag[:2]': 'US', '-1:word.lower': '@paulwalk', '-1:word.istitle': 0, '-1:word.isupper': 0, '-1:word.isdigit': 0, '+1:postag': 'PRP', '+1:postag[:2]': 'PR', '+1:word.lower': \"'s\", '+1:word.istitle': 0, '+1:word.isupper': 0, '+1:word.isdigit': 0}, {'bias': 1.0, 'postag': 'PRP', 'postag[:2]': 'PR', 'word[-3]:': \"'s\", 'word[-2]:': \"'s\", 'word.lower': \"'s\", 'word.istitle': 0, 'word.isupper': 0, 'word.isdigit': 0, '-1:postag': 'PRP', '-1:postag[:2]': 'PR', '-1:word.lower': 'it', '-1:word.istitle': 1, '-1:word.isupper': 0, '-1:word.isdigit': 0, '+1:postag': 'DT', '+1:postag[:2]': 'DT', '+1:word.lower': 'the', '+1:word.istitle': 0, '+1:word.isupper': 0, '+1:word.isdigit': 0}, {'bias': 1.0, 'postag': 'DT', 'postag[:2]': 'DT', 'word[-3]:': 'the', 'word[-2]:': 'he', 'word.lower': 'the', 'word.istitle': 0, 'word.isupper': 0, 'word.isdigit': 0, '-1:postag': 'PRP', '-1:postag[:2]': 'PR', '-1:word.lower': \"'s\", '-1:word.istitle': 0, '-1:word.isupper': 0, '-1:word.isdigit': 0, '+1:postag': 'NN', '+1:postag[:2]': 'NN', '+1:word.lower': 'view', '+1:word.istitle': 0, '+1:word.isupper': 0, '+1:word.isdigit': 0}, {'bias': 1.0, 'postag': 'NN', 'postag[:2]': 'NN', 'word[-3]:': 'iew', 'word[-2]:': 'ew', 'word.lower': 'view', 'word.istitle': 0, 'word.isupper': 0, 'word.isdigit': 0, '-1:postag': 'DT', '-1:postag[:2]': 'DT', '-1:word.lower': 'the', '-1:word.istitle': 0, '-1:word.isupper': 0, '-1:word.isdigit': 0, '+1:postag': 'IN', '+1:postag[:2]': 'IN', '+1:word.lower': 'from', '+1:word.istitle': 0, '+1:word.isupper': 0, '+1:word.isdigit': 0}, {'bias': 1.0, 'postag': 'IN', 'postag[:2]': 'IN', 'word[-3]:': 'rom', 'word[-2]:': 'om', 'word.lower': 'from', 'word.istitle': 0, 'word.isupper': 0, 'word.isdigit': 0, '-1:postag': 'NN', '-1:postag[:2]': 'NN', '-1:word.lower': 'view', '-1:word.istitle': 0, '-1:word.isupper': 0, '-1:word.isdigit': 0, '+1:postag': 'WRB', '+1:postag[:2]': 'WR', '+1:word.lower': 'where', '+1:word.istitle': 0, '+1:word.isupper': 0, '+1:word.isdigit': 0}, {'bias': 1.0, 'postag': 'WRB', 'postag[:2]': 'WR', 'word[-3]:': 'ere', 'word[-2]:': 're', 'word.lower': 'where', 'word.istitle': 0, 'word.isupper': 0, 'word.isdigit': 0, '-1:postag': 'IN', '-1:postag[:2]': 'IN', '-1:word.lower': 'from', '-1:word.istitle': 0, '-1:word.isupper': 0, '-1:word.isdigit': 0, '+1:postag': 'PRP', '+1:postag[:2]': 'PR', '+1:word.lower': 'i', '+1:word.istitle': 1, '+1:word.isupper': 1, '+1:word.isdigit': 0}, {'bias': 1.0, 'postag': 'PRP', 'postag[:2]': 'PR', 'word[-3]:': 'i', 'word[-2]:': 'i', 'word.lower': 'i', 'word.istitle': 1, 'word.isupper': 1, 'word.isdigit': 0, '-1:postag': 'WRB', '-1:postag[:2]': 'WR', '-1:word.lower': 'where', '-1:word.istitle': 0, '-1:word.isupper': 0, '-1:word.isdigit': 0, '+1:postag': 'PRP', '+1:postag[:2]': 'PR', '+1:word.lower': \"'m\", '+1:word.istitle': 0, '+1:word.isupper': 0, '+1:word.isdigit': 0}, {'bias': 1.0, 'postag': 'PRP', 'postag[:2]': 'PR', 'word[-3]:': \"'m\", 'word[-2]:': \"'m\", 'word.lower': \"'m\", 'word.istitle': 0, 'word.isupper': 0, 'word.isdigit': 0, '-1:postag': 'PRP', '-1:postag[:2]': 'PR', '-1:word.lower': 'i', '-1:word.istitle': 1, '-1:word.isupper': 1, '-1:word.isdigit': 0, '+1:postag': 'VBG', '+1:postag[:2]': 'VB', '+1:word.lower': 'living', '+1:word.istitle': 0, '+1:word.isupper': 0, '+1:word.isdigit': 0}, {'bias': 1.0, 'postag': 'VBG', 'postag[:2]': 'VB', 'word[-3]:': 'ing', 'word[-2]:': 'ng', 'word.lower': 'living', 'word.istitle': 0, 'word.isupper': 0, 'word.isdigit': 0, '-1:postag': 'PRP', '-1:postag[:2]': 'PR', '-1:word.lower': \"'m\", '-1:word.istitle': 0, '-1:word.isupper': 0, '-1:word.isdigit': 0, '+1:postag': 'IN', '+1:postag[:2]': 'IN', '+1:word.lower': 'for', '+1:word.istitle': 0, '+1:word.isupper': 0, '+1:word.isdigit': 0}, {'bias': 1.0, 'postag': 'IN', 'postag[:2]': 'IN', 'word[-3]:': 'for', 'word[-2]:': 'or', 'word.lower': 'for', 'word.istitle': 0, 'word.isupper': 0, 'word.isdigit': 0, '-1:postag': 'VBG', '-1:postag[:2]': 'VB', '-1:word.lower': 'living', '-1:word.istitle': 0, '-1:word.isupper': 0, '-1:word.isdigit': 0, '+1:postag': 'CD', '+1:postag[:2]': 'CD', '+1:word.lower': 'two', '+1:word.istitle': 0, '+1:word.isupper': 0, '+1:word.isdigit': 0}, {'bias': 1.0, 'postag': 'CD', 'postag[:2]': 'CD', 'word[-3]:': 'two', 'word[-2]:': 'wo', 'word.lower': 'two', 'word.istitle': 0, 'word.isupper': 0, 'word.isdigit': 0, '-1:postag': 'IN', '-1:postag[:2]': 'IN', '-1:word.lower': 'for', '-1:word.istitle': 0, '-1:word.isupper': 0, '-1:word.isdigit': 0, '+1:postag': 'NNS', '+1:postag[:2]': 'NN', '+1:word.lower': 'weeks', '+1:word.istitle': 0, '+1:word.isupper': 0, '+1:word.isdigit': 0}, {'bias': 1.0, 'postag': 'NNS', 'postag[:2]': 'NN', 'word[-3]:': 'eks', 'word[-2]:': 'ks', 'word.lower': 'weeks', 'word.istitle': 0, 'word.isupper': 0, 'word.isdigit': 0, '-1:postag': 'CD', '-1:postag[:2]': 'CD', '-1:word.lower': 'two', '-1:word.istitle': 0, '-1:word.isupper': 0, '-1:word.isdigit': 0, '+1:postag': '.', '+1:postag[:2]': '.', '+1:word.lower': '.', '+1:word.istitle': 0, '+1:word.isupper': 0, '+1:word.isdigit': 0}, {'bias': 1.0, 'postag': '.', 'postag[:2]': '.', 'word[-3]:': '.', 'word[-2]:': '.', 'word.lower': '.', 'word.istitle': 0, 'word.isupper': 0, 'word.isdigit': 0, '-1:postag': 'NNS', '-1:postag[:2]': 'NN', '-1:word.lower': 'weeks', '-1:word.istitle': 0, '-1:word.isupper': 0, '-1:word.isdigit': 0, '+1:postag': 'NNP', '+1:postag[:2]': 'NN', '+1:word.lower': 'empire', '+1:word.istitle': 1, '+1:word.isupper': 0, '+1:word.isdigit': 0}, {'bias': 1.0, 'postag': 'NNP', 'postag[:2]': 'NN', 'word[-3]:': 'ire', 'word[-2]:': 're', 'word.lower': 'empire', 'word.istitle': 1, 'word.isupper': 0, 'word.isdigit': 0, '-1:postag': '.', '-1:postag[:2]': '.', '-1:word.lower': '.', '-1:word.istitle': 0, '-1:word.isupper': 0, '-1:word.isdigit': 0, '+1:postag': 'NNP', '+1:postag[:2]': 'NN', '+1:word.lower': 'state', '+1:word.istitle': 1, '+1:word.isupper': 0, '+1:word.isdigit': 0}, {'bias': 1.0, 'postag': 'NNP', 'postag[:2]': 'NN', 'word[-3]:': 'ate', 'word[-2]:': 'te', 'word.lower': 'state', 'word.istitle': 1, 'word.isupper': 0, 'word.isdigit': 0, '-1:postag': 'NNP', '-1:postag[:2]': 'NN', '-1:word.lower': 'empire', '-1:word.istitle': 1, '-1:word.isupper': 0, '-1:word.isdigit': 0, '+1:postag': 'NNP', '+1:postag[:2]': 'NN', '+1:word.lower': 'building', '+1:word.istitle': 1, '+1:word.isupper': 0, '+1:word.isdigit': 0}, {'bias': 1.0, 'postag': 'NNP', 'postag[:2]': 'NN', 'word[-3]:': 'ing', 'word[-2]:': 'ng', 'word.lower': 'building', 'word.istitle': 1, 'word.isupper': 0, 'word.isdigit': 0, '-1:postag': 'NNP', '-1:postag[:2]': 'NN', '-1:word.lower': 'state', '-1:word.istitle': 1, '-1:word.isupper': 0, '-1:word.isdigit': 0, '+1:postag': 'SYM', '+1:postag[:2]': 'SY', '+1:word.lower': '=', '+1:word.istitle': 0, '+1:word.isupper': 0, '+1:word.isdigit': 0}, {'bias': 1.0, 'postag': 'SYM', 'postag[:2]': 'SY', 'word[-3]:': '=', 'word[-2]:': '=', 'word.lower': '=', 'word.istitle': 0, 'word.isupper': 0, 'word.isdigit': 0, '-1:postag': 'NNP', '-1:postag[:2]': 'NN', '-1:word.lower': 'building', '-1:word.istitle': 1, '-1:word.isupper': 0, '-1:word.isdigit': 0, '+1:postag': 'NNP', '+1:postag[:2]': 'NN', '+1:word.lower': 'esb', '+1:word.istitle': 0, '+1:word.isupper': 1, '+1:word.isdigit': 0}, {'bias': 1.0, 'postag': 'NNP', 'postag[:2]': 'NN', 'word[-3]:': 'esb', 'word[-2]:': 'sb', 'word.lower': 'esb', 'word.istitle': 0, 'word.isupper': 1, 'word.isdigit': 0, '-1:postag': 'SYM', '-1:postag[:2]': 'SY', '-1:word.lower': '=', '-1:word.istitle': 0, '-1:word.isupper': 0, '-1:word.isdigit': 0, '+1:postag': '.', '+1:postag[:2]': '.', '+1:word.lower': '.', '+1:word.istitle': 0, '+1:word.isupper': 0, '+1:word.isdigit': 0}, {'bias': 1.0, 'postag': '.', 'postag[:2]': '.', 'word[-3]:': '.', 'word[-2]:': '.', 'word.lower': '.', 'word.istitle': 0, 'word.isupper': 0, 'word.isdigit': 0, '-1:postag': 'NNP', '-1:postag[:2]': 'NN', '-1:word.lower': 'esb', '-1:word.istitle': 0, '-1:word.isupper': 1, '-1:word.isdigit': 0, '+1:postag': 'RB', '+1:postag[:2]': 'RB', '+1:word.lower': 'pretty', '+1:word.istitle': 1, '+1:word.isupper': 0, '+1:word.isdigit': 0}, {'bias': 1.0, 'postag': 'RB', 'postag[:2]': 'RB', 'word[-3]:': 'tty', 'word[-2]:': 'ty', 'word.lower': 'pretty', 'word.istitle': 1, 'word.isupper': 0, 'word.isdigit': 0, '-1:postag': '.', '-1:postag[:2]': '.', '-1:word.lower': '.', '-1:word.istitle': 0, '-1:word.isupper': 0, '-1:word.isdigit': 0, '+1:postag': 'JJ', '+1:postag[:2]': 'JJ', '+1:word.lower': 'bad', '+1:word.istitle': 0, '+1:word.isupper': 0, '+1:word.isdigit': 0}, {'bias': 1.0, 'postag': 'JJ', 'postag[:2]': 'JJ', 'word[-3]:': 'bad', 'word[-2]:': 'ad', 'word.lower': 'bad', 'word.istitle': 0, 'word.isupper': 0, 'word.isdigit': 0, '-1:postag': 'RB', '-1:postag[:2]': 'RB', '-1:word.lower': 'pretty', '-1:word.istitle': 1, '-1:word.isupper': 0, '-1:word.isdigit': 0, '+1:postag': 'NN', '+1:postag[:2]': 'NN', '+1:word.lower': 'storm', '+1:word.istitle': 0, '+1:word.isupper': 0, '+1:word.isdigit': 0}, {'bias': 1.0, 'postag': 'NN', 'postag[:2]': 'NN', 'word[-3]:': 'orm', 'word[-2]:': 'rm', 'word.lower': 'storm', 'word.istitle': 0, 'word.isupper': 0, 'word.isdigit': 0, '-1:postag': 'JJ', '-1:postag[:2]': 'JJ', '-1:word.lower': 'bad', '-1:word.istitle': 0, '-1:word.isupper': 0, '-1:word.isdigit': 0, '+1:postag': 'RB', '+1:postag[:2]': 'RB', '+1:word.lower': 'here', '+1:word.istitle': 0, '+1:word.isupper': 0, '+1:word.isdigit': 0}, {'bias': 1.0, 'postag': 'RB', 'postag[:2]': 'RB', 'word[-3]:': 'ere', 'word[-2]:': 're', 'word.lower': 'here', 'word.istitle': 0, 'word.isupper': 0, 'word.isdigit': 0, '-1:postag': 'NN', '-1:postag[:2]': 'NN', '-1:word.lower': 'storm', '-1:word.istitle': 0, '-1:word.isupper': 0, '-1:word.isdigit': 0, '+1:postag': 'JJ', '+1:postag[:2]': 'JJ', '+1:word.lower': 'last', '+1:word.istitle': 0, '+1:word.isupper': 0, '+1:word.isdigit': 0}, {'bias': 1.0, 'postag': 'JJ', 'postag[:2]': 'JJ', 'word[-3]:': 'ast', 'word[-2]:': 'st', 'word.lower': 'last', 'word.istitle': 0, 'word.isupper': 0, 'word.isdigit': 0, '-1:postag': 'RB', '-1:postag[:2]': 'RB', '-1:word.lower': 'here', '-1:word.istitle': 0, '-1:word.isupper': 0, '-1:word.isdigit': 0, '+1:postag': 'NN', '+1:postag[:2]': 'NN', '+1:word.lower': 'evening', '+1:word.istitle': 0, '+1:word.isupper': 0, '+1:word.isdigit': 0}, {'bias': 1.0, 'postag': 'NN', 'postag[:2]': 'NN', 'word[-3]:': 'ing', 'word[-2]:': 'ng', 'word.lower': 'evening', 'word.istitle': 0, 'word.isupper': 0, 'word.isdigit': 0, '-1:postag': 'JJ', '-1:postag[:2]': 'JJ', '-1:word.lower': 'last', '-1:word.istitle': 0, '-1:word.isupper': 0, '-1:word.isdigit': 0, '+1:postag': '.', '+1:postag[:2]': '.', '+1:word.lower': '.', '+1:word.istitle': 0, '+1:word.isupper': 0, '+1:word.isdigit': 0}, {'bias': 1.0, 'postag': '.', 'postag[:2]': '.', 'word[-3]:': '.', 'word[-2]:': '.', 'word.lower': '.', 'word.istitle': 0, 'word.isupper': 0, 'word.isdigit': 0, '-1:postag': 'NN', '-1:postag[:2]': 'NN', '-1:word.lower': 'evening', '-1:word.istitle': 0, '-1:word.isupper': 0, '-1:word.isdigit': 0, 'EOS': True}]\n",
      "------------------------------------------------------------------------------------------------------------\n",
      "[{'bias': 1.0, 'word[-3:]': 'alk', 'word[-2:]': 'lk', 'word.lower()': '@paulwalk', 'word.istitle()': False, 'word.isupper()': False, 'word.isdigit()': False, 'postag': 'USR', 'postag[:2]': 'US', 'BOS': True, '+1:word.lower()': 'it', '+1:word.istitle()': True, '+1:word.isupper()': False, '+1:word.isdigit()': False, '+1:postag': 'PRP', '+1:postag[:2]': 'PR'}, {'bias': 1.0, 'word[-3:]': 'It', 'word[-2:]': 'It', 'word.lower()': 'it', 'word.istitle()': True, 'word.isupper()': False, 'word.isdigit()': False, 'postag': 'PRP', 'postag[:2]': 'PR', '-1:word.lower()': '@paulwalk', '-1:word.istitle()': False, '-1:word.isupper()': False, '-1:word.isdigit()': False, '-1:postag': 'USR', '-1:postag[:2]': 'US', '+1:word.lower()': \"'s\", '+1:word.istitle()': False, '+1:word.isupper()': False, '+1:word.isdigit()': False, '+1:postag': 'PRP', '+1:postag[:2]': 'PR'}, {'bias': 1.0, 'word[-3:]': \"'s\", 'word[-2:]': \"'s\", 'word.lower()': \"'s\", 'word.istitle()': False, 'word.isupper()': False, 'word.isdigit()': False, 'postag': 'PRP', 'postag[:2]': 'PR', '-1:word.lower()': 'it', '-1:word.istitle()': True, '-1:word.isupper()': False, '-1:word.isdigit()': False, '-1:postag': 'PRP', '-1:postag[:2]': 'PR', '+1:word.lower()': 'the', '+1:word.istitle()': False, '+1:word.isupper()': False, '+1:word.isdigit()': False, '+1:postag': 'DT', '+1:postag[:2]': 'DT'}, {'bias': 1.0, 'word[-3:]': 'the', 'word[-2:]': 'he', 'word.lower()': 'the', 'word.istitle()': False, 'word.isupper()': False, 'word.isdigit()': False, 'postag': 'DT', 'postag[:2]': 'DT', '-1:word.lower()': \"'s\", '-1:word.istitle()': False, '-1:word.isupper()': False, '-1:word.isdigit()': False, '-1:postag': 'PRP', '-1:postag[:2]': 'PR', '+1:word.lower()': 'view', '+1:word.istitle()': False, '+1:word.isupper()': False, '+1:word.isdigit()': False, '+1:postag': 'NN', '+1:postag[:2]': 'NN'}, {'bias': 1.0, 'word[-3:]': 'iew', 'word[-2:]': 'ew', 'word.lower()': 'view', 'word.istitle()': False, 'word.isupper()': False, 'word.isdigit()': False, 'postag': 'NN', 'postag[:2]': 'NN', '-1:word.lower()': 'the', '-1:word.istitle()': False, '-1:word.isupper()': False, '-1:word.isdigit()': False, '-1:postag': 'DT', '-1:postag[:2]': 'DT', '+1:word.lower()': 'from', '+1:word.istitle()': False, '+1:word.isupper()': False, '+1:word.isdigit()': False, '+1:postag': 'IN', '+1:postag[:2]': 'IN'}, {'bias': 1.0, 'word[-3:]': 'rom', 'word[-2:]': 'om', 'word.lower()': 'from', 'word.istitle()': False, 'word.isupper()': False, 'word.isdigit()': False, 'postag': 'IN', 'postag[:2]': 'IN', '-1:word.lower()': 'view', '-1:word.istitle()': False, '-1:word.isupper()': False, '-1:word.isdigit()': False, '-1:postag': 'NN', '-1:postag[:2]': 'NN', '+1:word.lower()': 'where', '+1:word.istitle()': False, '+1:word.isupper()': False, '+1:word.isdigit()': False, '+1:postag': 'WRB', '+1:postag[:2]': 'WR'}, {'bias': 1.0, 'word[-3:]': 'ere', 'word[-2:]': 're', 'word.lower()': 'where', 'word.istitle()': False, 'word.isupper()': False, 'word.isdigit()': False, 'postag': 'WRB', 'postag[:2]': 'WR', '-1:word.lower()': 'from', '-1:word.istitle()': False, '-1:word.isupper()': False, '-1:word.isdigit()': False, '-1:postag': 'IN', '-1:postag[:2]': 'IN', '+1:word.lower()': 'i', '+1:word.istitle()': True, '+1:word.isupper()': True, '+1:word.isdigit()': False, '+1:postag': 'PRP', '+1:postag[:2]': 'PR'}, {'bias': 1.0, 'word[-3:]': 'I', 'word[-2:]': 'I', 'word.lower()': 'i', 'word.istitle()': True, 'word.isupper()': True, 'word.isdigit()': False, 'postag': 'PRP', 'postag[:2]': 'PR', '-1:word.lower()': 'where', '-1:word.istitle()': False, '-1:word.isupper()': False, '-1:word.isdigit()': False, '-1:postag': 'WRB', '-1:postag[:2]': 'WR', '+1:word.lower()': \"'m\", '+1:word.istitle()': False, '+1:word.isupper()': False, '+1:word.isdigit()': False, '+1:postag': 'PRP', '+1:postag[:2]': 'PR'}, {'bias': 1.0, 'word[-3:]': \"'m\", 'word[-2:]': \"'m\", 'word.lower()': \"'m\", 'word.istitle()': False, 'word.isupper()': False, 'word.isdigit()': False, 'postag': 'PRP', 'postag[:2]': 'PR', '-1:word.lower()': 'i', '-1:word.istitle()': True, '-1:word.isupper()': True, '-1:word.isdigit()': False, '-1:postag': 'PRP', '-1:postag[:2]': 'PR', '+1:word.lower()': 'living', '+1:word.istitle()': False, '+1:word.isupper()': False, '+1:word.isdigit()': False, '+1:postag': 'VBG', '+1:postag[:2]': 'VB'}, {'bias': 1.0, 'word[-3:]': 'ing', 'word[-2:]': 'ng', 'word.lower()': 'living', 'word.istitle()': False, 'word.isupper()': False, 'word.isdigit()': False, 'postag': 'VBG', 'postag[:2]': 'VB', '-1:word.lower()': \"'m\", '-1:word.istitle()': False, '-1:word.isupper()': False, '-1:word.isdigit()': False, '-1:postag': 'PRP', '-1:postag[:2]': 'PR', '+1:word.lower()': 'for', '+1:word.istitle()': False, '+1:word.isupper()': False, '+1:word.isdigit()': False, '+1:postag': 'IN', '+1:postag[:2]': 'IN'}, {'bias': 1.0, 'word[-3:]': 'for', 'word[-2:]': 'or', 'word.lower()': 'for', 'word.istitle()': False, 'word.isupper()': False, 'word.isdigit()': False, 'postag': 'IN', 'postag[:2]': 'IN', '-1:word.lower()': 'living', '-1:word.istitle()': False, '-1:word.isupper()': False, '-1:word.isdigit()': False, '-1:postag': 'VBG', '-1:postag[:2]': 'VB', '+1:word.lower()': 'two', '+1:word.istitle()': False, '+1:word.isupper()': False, '+1:word.isdigit()': False, '+1:postag': 'CD', '+1:postag[:2]': 'CD'}, {'bias': 1.0, 'word[-3:]': 'two', 'word[-2:]': 'wo', 'word.lower()': 'two', 'word.istitle()': False, 'word.isupper()': False, 'word.isdigit()': False, 'postag': 'CD', 'postag[:2]': 'CD', '-1:word.lower()': 'for', '-1:word.istitle()': False, '-1:word.isupper()': False, '-1:word.isdigit()': False, '-1:postag': 'IN', '-1:postag[:2]': 'IN', '+1:word.lower()': 'weeks', '+1:word.istitle()': False, '+1:word.isupper()': False, '+1:word.isdigit()': False, '+1:postag': 'NNS', '+1:postag[:2]': 'NN'}, {'bias': 1.0, 'word[-3:]': 'eks', 'word[-2:]': 'ks', 'word.lower()': 'weeks', 'word.istitle()': False, 'word.isupper()': False, 'word.isdigit()': False, 'postag': 'NNS', 'postag[:2]': 'NN', '-1:word.lower()': 'two', '-1:word.istitle()': False, '-1:word.isupper()': False, '-1:word.isdigit()': False, '-1:postag': 'CD', '-1:postag[:2]': 'CD', '+1:word.lower()': '.', '+1:word.istitle()': False, '+1:word.isupper()': False, '+1:word.isdigit()': False, '+1:postag': '.', '+1:postag[:2]': '.'}, {'bias': 1.0, 'word[-3:]': '.', 'word[-2:]': '.', 'word.lower()': '.', 'word.istitle()': False, 'word.isupper()': False, 'word.isdigit()': False, 'postag': '.', 'postag[:2]': '.', '-1:word.lower()': 'weeks', '-1:word.istitle()': False, '-1:word.isupper()': False, '-1:word.isdigit()': False, '-1:postag': 'NNS', '-1:postag[:2]': 'NN', '+1:word.lower()': 'empire', '+1:word.istitle()': True, '+1:word.isupper()': False, '+1:word.isdigit()': False, '+1:postag': 'NNP', '+1:postag[:2]': 'NN'}, {'bias': 1.0, 'word[-3:]': 'ire', 'word[-2:]': 're', 'word.lower()': 'empire', 'word.istitle()': True, 'word.isupper()': False, 'word.isdigit()': False, 'postag': 'NNP', 'postag[:2]': 'NN', '-1:word.lower()': '.', '-1:word.istitle()': False, '-1:word.isupper()': False, '-1:word.isdigit()': False, '-1:postag': '.', '-1:postag[:2]': '.', '+1:word.lower()': 'state', '+1:word.istitle()': True, '+1:word.isupper()': False, '+1:word.isdigit()': False, '+1:postag': 'NNP', '+1:postag[:2]': 'NN'}, {'bias': 1.0, 'word[-3:]': 'ate', 'word[-2:]': 'te', 'word.lower()': 'state', 'word.istitle()': True, 'word.isupper()': False, 'word.isdigit()': False, 'postag': 'NNP', 'postag[:2]': 'NN', '-1:word.lower()': 'empire', '-1:word.istitle()': True, '-1:word.isupper()': False, '-1:word.isdigit()': False, '-1:postag': 'NNP', '-1:postag[:2]': 'NN', '+1:word.lower()': 'building', '+1:word.istitle()': True, '+1:word.isupper()': False, '+1:word.isdigit()': False, '+1:postag': 'NNP', '+1:postag[:2]': 'NN'}, {'bias': 1.0, 'word[-3:]': 'ing', 'word[-2:]': 'ng', 'word.lower()': 'building', 'word.istitle()': True, 'word.isupper()': False, 'word.isdigit()': False, 'postag': 'NNP', 'postag[:2]': 'NN', '-1:word.lower()': 'state', '-1:word.istitle()': True, '-1:word.isupper()': False, '-1:word.isdigit()': False, '-1:postag': 'NNP', '-1:postag[:2]': 'NN', '+1:word.lower()': '=', '+1:word.istitle()': False, '+1:word.isupper()': False, '+1:word.isdigit()': False, '+1:postag': 'SYM', '+1:postag[:2]': 'SY'}, {'bias': 1.0, 'word[-3:]': '=', 'word[-2:]': '=', 'word.lower()': '=', 'word.istitle()': False, 'word.isupper()': False, 'word.isdigit()': False, 'postag': 'SYM', 'postag[:2]': 'SY', '-1:word.lower()': 'building', '-1:word.istitle()': True, '-1:word.isupper()': False, '-1:word.isdigit()': False, '-1:postag': 'NNP', '-1:postag[:2]': 'NN', '+1:word.lower()': 'esb', '+1:word.istitle()': False, '+1:word.isupper()': True, '+1:word.isdigit()': False, '+1:postag': 'NNP', '+1:postag[:2]': 'NN'}, {'bias': 1.0, 'word[-3:]': 'ESB', 'word[-2:]': 'SB', 'word.lower()': 'esb', 'word.istitle()': False, 'word.isupper()': True, 'word.isdigit()': False, 'postag': 'NNP', 'postag[:2]': 'NN', '-1:word.lower()': '=', '-1:word.istitle()': False, '-1:word.isupper()': False, '-1:word.isdigit()': False, '-1:postag': 'SYM', '-1:postag[:2]': 'SY', '+1:word.lower()': '.', '+1:word.istitle()': False, '+1:word.isupper()': False, '+1:word.isdigit()': False, '+1:postag': '.', '+1:postag[:2]': '.'}, {'bias': 1.0, 'word[-3:]': '.', 'word[-2:]': '.', 'word.lower()': '.', 'word.istitle()': False, 'word.isupper()': False, 'word.isdigit()': False, 'postag': '.', 'postag[:2]': '.', '-1:word.lower()': 'esb', '-1:word.istitle()': False, '-1:word.isupper()': True, '-1:word.isdigit()': False, '-1:postag': 'NNP', '-1:postag[:2]': 'NN', '+1:word.lower()': 'pretty', '+1:word.istitle()': True, '+1:word.isupper()': False, '+1:word.isdigit()': False, '+1:postag': 'RB', '+1:postag[:2]': 'RB'}, {'bias': 1.0, 'word[-3:]': 'tty', 'word[-2:]': 'ty', 'word.lower()': 'pretty', 'word.istitle()': True, 'word.isupper()': False, 'word.isdigit()': False, 'postag': 'RB', 'postag[:2]': 'RB', '-1:word.lower()': '.', '-1:word.istitle()': False, '-1:word.isupper()': False, '-1:word.isdigit()': False, '-1:postag': '.', '-1:postag[:2]': '.', '+1:word.lower()': 'bad', '+1:word.istitle()': False, '+1:word.isupper()': False, '+1:word.isdigit()': False, '+1:postag': 'JJ', '+1:postag[:2]': 'JJ'}, {'bias': 1.0, 'word[-3:]': 'bad', 'word[-2:]': 'ad', 'word.lower()': 'bad', 'word.istitle()': False, 'word.isupper()': False, 'word.isdigit()': False, 'postag': 'JJ', 'postag[:2]': 'JJ', '-1:word.lower()': 'pretty', '-1:word.istitle()': True, '-1:word.isupper()': False, '-1:word.isdigit()': False, '-1:postag': 'RB', '-1:postag[:2]': 'RB', '+1:word.lower()': 'storm', '+1:word.istitle()': False, '+1:word.isupper()': False, '+1:word.isdigit()': False, '+1:postag': 'NN', '+1:postag[:2]': 'NN'}, {'bias': 1.0, 'word[-3:]': 'orm', 'word[-2:]': 'rm', 'word.lower()': 'storm', 'word.istitle()': False, 'word.isupper()': False, 'word.isdigit()': False, 'postag': 'NN', 'postag[:2]': 'NN', '-1:word.lower()': 'bad', '-1:word.istitle()': False, '-1:word.isupper()': False, '-1:word.isdigit()': False, '-1:postag': 'JJ', '-1:postag[:2]': 'JJ', '+1:word.lower()': 'here', '+1:word.istitle()': False, '+1:word.isupper()': False, '+1:word.isdigit()': False, '+1:postag': 'RB', '+1:postag[:2]': 'RB'}, {'bias': 1.0, 'word[-3:]': 'ere', 'word[-2:]': 're', 'word.lower()': 'here', 'word.istitle()': False, 'word.isupper()': False, 'word.isdigit()': False, 'postag': 'RB', 'postag[:2]': 'RB', '-1:word.lower()': 'storm', '-1:word.istitle()': False, '-1:word.isupper()': False, '-1:word.isdigit()': False, '-1:postag': 'NN', '-1:postag[:2]': 'NN', '+1:word.lower()': 'last', '+1:word.istitle()': False, '+1:word.isupper()': False, '+1:word.isdigit()': False, '+1:postag': 'JJ', '+1:postag[:2]': 'JJ'}, {'bias': 1.0, 'word[-3:]': 'ast', 'word[-2:]': 'st', 'word.lower()': 'last', 'word.istitle()': False, 'word.isupper()': False, 'word.isdigit()': False, 'postag': 'JJ', 'postag[:2]': 'JJ', '-1:word.lower()': 'here', '-1:word.istitle()': False, '-1:word.isupper()': False, '-1:word.isdigit()': False, '-1:postag': 'RB', '-1:postag[:2]': 'RB', '+1:word.lower()': 'evening', '+1:word.istitle()': False, '+1:word.isupper()': False, '+1:word.isdigit()': False, '+1:postag': 'NN', '+1:postag[:2]': 'NN'}, {'bias': 1.0, 'word[-3:]': 'ing', 'word[-2:]': 'ng', 'word.lower()': 'evening', 'word.istitle()': False, 'word.isupper()': False, 'word.isdigit()': False, 'postag': 'NN', 'postag[:2]': 'NN', '-1:word.lower()': 'last', '-1:word.istitle()': False, '-1:word.isupper()': False, '-1:word.isdigit()': False, '-1:postag': 'JJ', '-1:postag[:2]': 'JJ', '+1:word.lower()': '.', '+1:word.istitle()': False, '+1:word.isupper()': False, '+1:word.isdigit()': False, '+1:postag': '.', '+1:postag[:2]': '.'}, {'bias': 1.0, 'word[-3:]': '.', 'word[-2:]': '.', 'word.lower()': '.', 'word.istitle()': False, 'word.isupper()': False, 'word.isdigit()': False, 'postag': '.', 'postag[:2]': '.', '-1:word.lower()': 'evening', '-1:word.istitle()': False, '-1:word.isupper()': False, '-1:word.isdigit()': False, '-1:postag': 'NN', '-1:postag[:2]': 'NN', 'EOS': True}]\n",
      "------------------------------------------------------------------------------------------------------------\n"
     ]
    }
   ],
   "source": [
    "# define the training features\n",
    "train_on_features_labels = ['word.lower', 'word.istitle', 'word.isupper', 'word.isdigit', 'postag']\n",
    "\n",
    "# get feature indices per feature labels\n",
    "feature_dict_lex, feature_dict_lex_rev = WordFeaturesInterface.get_lexical()\n",
    "print('features set - lexical')\n",
    "print(feature_dict_lex)\n",
    "\n",
    "# get feature ids\n",
    "train_on_features_ids =\\\n",
    "    [WordFeaturesInterface.get_key_by_value(dictionary=feature_dict_lex,\n",
    "                                            feature_alias=feat) for feat in train_on_features_labels]\n",
    "\n",
    "features = dict(zip(train_on_features_ids, train_on_features_labels))\n",
    "print('training on features: ', features)\n",
    "\n",
    "Xd = [sent2features_dynamic(s, features) for s in horus.sentences] \n",
    "print('------------------------------------------------------------------------------------------------------------')\n",
    "print(Xd[0])\n",
    "print('------------------------------------------------------------------------------------------------------------')\n",
    "X = [sent2features(s) for s in horus.sentences]\n",
    "print(X[0])\n",
    "print('------------------------------------------------------------------------------------------------------------')"
   ]
  },
  {
   "cell_type": "code",
   "execution_count": 50,
   "metadata": {},
   "outputs": [],
   "source": [
    "def get_4muc_labels(y):\n",
    "    for i in range(0, len(y)):\n",
    "        for z in range(0, len(y[i])):\n",
    "            label = y[i][z]\n",
    "            if label != 'O':\n",
    "                #print(label[2:len(label)])\n",
    "                if label[2:len(label)] not in ('person', 'geo-loc', 'company', 'O'):\n",
    "                    #print(label[2:len(label)])\n",
    "                    #print(label)\n",
    "                    y[i][z] = y[i][z][0] + '-other'\n",
    "                    \n",
    "    return y\n",
    "    "
   ]
  },
  {
   "cell_type": "code",
   "execution_count": 51,
   "metadata": {},
   "outputs": [
    {
     "name": "stdout",
     "output_type": "stream",
     "text": [
      "{'O', 'B-tvshow', 'I-facility', 'B-person', 'B-company', 'B-facility', 'I-other', 'B-other'}\n",
      "{'B-other', 'B-person', 'B-company', 'I-other', 'O'}\n"
     ]
    }
   ],
   "source": [
    "y = [sent2labels(s) for s in horus.sentences]\n",
    "labels_set = []\n",
    "[labels_set.extend(list(set(z))) for z in y]\n",
    "print(set(labels_set))\n",
    "y2 = get_4muc_labels(y)\n",
    "labels_set2 = []\n",
    "[labels_set2.extend(list(set(z))) for z in y2]\n",
    "print(set(labels_set2))\n"
   ]
  },
  {
   "cell_type": "code",
   "execution_count": 52,
   "metadata": {},
   "outputs": [
    {
     "name": "stderr",
     "output_type": "stream",
     "text": [
      "/Users/diego.esteves/.local/share/virtualenvs/horus-MzGAWMx0/lib/python3.7/site-packages/sklearn/base.py:197: FutureWarning: From version 0.24, get_params will raise an AttributeError if a parameter cannot be retrieved as an instance attribute. Previously it would return None.\n",
      "  FutureWarning)\n",
      "/Users/diego.esteves/.local/share/virtualenvs/horus-MzGAWMx0/lib/python3.7/site-packages/sklearn/metrics/_classification.py:1272: UndefinedMetricWarning: Precision and F-score are ill-defined and being set to 0.0 in labels with no predicted samples. Use `zero_division` parameter to control this behavior.\n",
      "  _warn_prf(average, modifier, msg_start, len(result))\n"
     ]
    },
    {
     "name": "stdout",
     "output_type": "stream",
     "text": [
      "              precision    recall  f1-score   support\n",
      "\n",
      "   B-company       0.00      0.00      0.00         2\n",
      "     B-other       1.00      0.17      0.29         6\n",
      "    B-person       0.00      0.00      0.00         1\n",
      "     I-other       0.00      0.00      0.00         5\n",
      "           O       0.95      1.00      0.97       247\n",
      "\n",
      "    accuracy                           0.95       261\n",
      "   macro avg       0.39      0.23      0.25       261\n",
      "weighted avg       0.92      0.95      0.93       261\n",
      "\n"
     ]
    }
   ],
   "source": [
    "pred = cross_val_predict(estimator=_crf, X=X, y=y, cv=4)\n",
    "report = flat_classification_report(y_pred=pred, y_true=y)\n",
    "print(report)"
   ]
  },
  {
   "cell_type": "code",
   "execution_count": 53,
   "metadata": {},
   "outputs": [
    {
     "name": "stdout",
     "output_type": "stream",
     "text": [
      "              precision    recall  f1-score   support\n",
      "\n",
      "   B-company       0.00      0.00      0.00         2\n",
      "     B-other       1.00      0.17      0.29         6\n",
      "    B-person       0.00      0.00      0.00         1\n",
      "     I-other       0.00      0.00      0.00         5\n",
      "           O       0.95      1.00      0.97       247\n",
      "\n",
      "    accuracy                           0.95       261\n",
      "   macro avg       0.39      0.23      0.25       261\n",
      "weighted avg       0.92      0.95      0.93       261\n",
      "\n"
     ]
    }
   ],
   "source": [
    "pred = cross_val_predict(estimator=_crf, X=Xd, y=y2, cv=4)\n",
    "report = flat_classification_report(y_pred=pred, y_true=y)\n",
    "print(report)"
   ]
  },
  {
   "cell_type": "code",
   "execution_count": 54,
   "metadata": {},
   "outputs": [
    {
     "name": "stderr",
     "output_type": "stream",
     "text": [
      "/Users/diego.esteves/.local/share/virtualenvs/horus-MzGAWMx0/lib/python3.7/site-packages/sklearn/base.py:197: FutureWarning: From version 0.24, get_params will raise an AttributeError if a parameter cannot be retrieved as an instance attribute. Previously it would return None.\n",
      "  FutureWarning)\n"
     ]
    },
    {
     "data": {
      "text/plain": "<IPython.core.display.HTML object>",
      "text/html": "\n    <style>\n    table.eli5-weights tr:hover {\n        filter: brightness(85%);\n    }\n</style>\n\n\n\n    \n\n    \n\n    \n        \n\n\n<table class=\"eli5-transition-features\" style=\"margin-bottom: 0.5em;\">\n    <thead>\n        <tr>\n            <td>From \\ To</td>\n            \n                <th>O</th>\n            \n                <th>B-company</th>\n            \n                <th>B-other</th>\n            \n                <th>I-other</th>\n            \n                <th>B-person</th>\n            \n        </tr>\n    </thead>\n    <tbody>\n        \n            \n                <tr>\n                    <th>O</th>\n                    \n                        <td style=\"background-color: hsl(120, 100.00%, 80.00%)\" title=\"O &rArr; O\">\n                            3.463\n                        </td>\n                    \n                        <td style=\"background-color: hsl(0, 100.00%, 100.00%)\" title=\"O &rArr; B-company\">\n                            0.0\n                        </td>\n                    \n                        <td style=\"background-color: hsl(120, 100.00%, 88.73%)\" title=\"O &rArr; B-other\">\n                            1.527\n                        </td>\n                    \n                        <td style=\"background-color: hsl(0, 100.00%, 96.77%)\" title=\"O &rArr; I-other\">\n                            -0.256\n                        </td>\n                    \n                        <td style=\"background-color: hsl(0, 100.00%, 100.00%)\" title=\"O &rArr; B-person\">\n                            0.0\n                        </td>\n                    \n                </tr>\n            \n                <tr>\n                    <th>B-company</th>\n                    \n                        <td style=\"background-color: hsl(120, 100.00%, 95.89%)\" title=\"B-company &rArr; O\">\n                            0.361\n                        </td>\n                    \n                        <td style=\"background-color: hsl(0, 100.00%, 100.00%)\" title=\"B-company &rArr; B-company\">\n                            0.0\n                        </td>\n                    \n                        <td style=\"background-color: hsl(0, 100.00%, 100.00%)\" title=\"B-company &rArr; B-other\">\n                            0.0\n                        </td>\n                    \n                        <td style=\"background-color: hsl(0, 100.00%, 100.00%)\" title=\"B-company &rArr; I-other\">\n                            0.0\n                        </td>\n                    \n                        <td style=\"background-color: hsl(0, 100.00%, 100.00%)\" title=\"B-company &rArr; B-person\">\n                            0.0\n                        </td>\n                    \n                </tr>\n            \n                <tr>\n                    <th>B-other</th>\n                    \n                        <td style=\"background-color: hsl(0, 100.00%, 95.97%)\" title=\"B-other &rArr; O\">\n                            -0.352\n                        </td>\n                    \n                        <td style=\"background-color: hsl(0, 100.00%, 100.00%)\" title=\"B-other &rArr; B-company\">\n                            0.0\n                        </td>\n                    \n                        <td style=\"background-color: hsl(0, 100.00%, 100.00%)\" title=\"B-other &rArr; B-other\">\n                            0.0\n                        </td>\n                    \n                        <td style=\"background-color: hsl(120, 100.00%, 81.74%)\" title=\"B-other &rArr; I-other\">\n                            3.039\n                        </td>\n                    \n                        <td style=\"background-color: hsl(0, 100.00%, 100.00%)\" title=\"B-other &rArr; B-person\">\n                            0.0\n                        </td>\n                    \n                </tr>\n            \n                <tr>\n                    <th>I-other</th>\n                    \n                        <td style=\"background-color: hsl(0, 100.00%, 98.94%)\" title=\"I-other &rArr; O\">\n                            -0.052\n                        </td>\n                    \n                        <td style=\"background-color: hsl(0, 100.00%, 100.00%)\" title=\"I-other &rArr; B-company\">\n                            0.0\n                        </td>\n                    \n                        <td style=\"background-color: hsl(0, 100.00%, 100.00%)\" title=\"I-other &rArr; B-other\">\n                            0.0\n                        </td>\n                    \n                        <td style=\"background-color: hsl(120, 100.00%, 82.56%)\" title=\"I-other &rArr; I-other\">\n                            2.847\n                        </td>\n                    \n                        <td style=\"background-color: hsl(0, 100.00%, 100.00%)\" title=\"I-other &rArr; B-person\">\n                            0.0\n                        </td>\n                    \n                </tr>\n            \n                <tr>\n                    <th>B-person</th>\n                    \n                        <td style=\"background-color: hsl(0, 100.00%, 100.00%)\" title=\"B-person &rArr; O\">\n                            0.0\n                        </td>\n                    \n                        <td style=\"background-color: hsl(0, 100.00%, 100.00%)\" title=\"B-person &rArr; B-company\">\n                            0.0\n                        </td>\n                    \n                        <td style=\"background-color: hsl(0, 100.00%, 100.00%)\" title=\"B-person &rArr; B-other\">\n                            0.0\n                        </td>\n                    \n                        <td style=\"background-color: hsl(0, 100.00%, 100.00%)\" title=\"B-person &rArr; I-other\">\n                            0.0\n                        </td>\n                    \n                        <td style=\"background-color: hsl(0, 100.00%, 100.00%)\" title=\"B-person &rArr; B-person\">\n                            0.0\n                        </td>\n                    \n                </tr>\n            \n        \n    </tbody>\n</table>\n    \n\n    \n\n    \n\n    \n\n\n    \n\n    \n\n    \n\n    \n        \n\n    \n        <table class=\"eli5-weights-wrapper\" style=\"border-collapse: collapse; border: none; margin-bottom: 1.5em;\">\n            <tr>\n                \n                    <td style=\"padding: 0.5em; border: 1px solid black; text-align: center;\">\n                        <b>\n    \n        y=O\n    \n</b>\n\ntop features\n                    </td>\n                \n                    <td style=\"padding: 0.5em; border: 1px solid black; text-align: center;\">\n                        <b>\n    \n        y=B-company\n    \n</b>\n\ntop features\n                    </td>\n                \n                    <td style=\"padding: 0.5em; border: 1px solid black; text-align: center;\">\n                        <b>\n    \n        y=B-other\n    \n</b>\n\ntop features\n                    </td>\n                \n                    <td style=\"padding: 0.5em; border: 1px solid black; text-align: center;\">\n                        <b>\n    \n        y=I-other\n    \n</b>\n\ntop features\n                    </td>\n                \n                    <td style=\"padding: 0.5em; border: 1px solid black; text-align: center;\">\n                        <b>\n    \n        y=B-person\n    \n</b>\n\ntop features\n                    </td>\n                \n            </tr>\n            <tr>\n                \n                    \n                        <td style=\"padding: 0px; border: 1px solid black; vertical-align: top;\">\n                            \n                                \n                                    \n                                    \n    \n    <table class=\"eli5-weights\"\n           style=\"border-collapse: collapse; border: none; margin-top: 0em; table-layout: auto; width: 100%;\">\n        <thead>\n        <tr style=\"border: none;\">\n            \n                <th style=\"padding: 0 1em 0 0.5em; text-align: right; border: none;\" title=\"Feature weights. Note that weights do not account for feature value scales, so if feature values have different scales, features with highest weights might not be the most important.\">\n                    Weight<sup>?</sup>\n                </th>\n            \n            <th style=\"padding: 0 0.5em 0 0.5em; text-align: left; border: none;\">Feature</th>\n            \n        </tr>\n        </thead>\n        <tbody>\n        \n            <tr style=\"background-color: hsl(120, 100.00%, 80.09%); border: none;\">\n    <td style=\"padding: 0 1em 0 0.5em; text-align: right; border: none;\">\n        +4.551\n    </td>\n    <td style=\"padding: 0 0.5em 0 0.5em; text-align: left; border: none;\">\n        bias\n    </td>\n    \n</tr>\n        \n            <tr style=\"background-color: hsl(120, 100.00%, 91.62%); border: none;\">\n    <td style=\"padding: 0 1em 0 0.5em; text-align: right; border: none;\">\n        +1.322\n    </td>\n    <td style=\"padding: 0 0.5em 0 0.5em; text-align: left; border: none;\">\n        -1:word.istitle()\n    </td>\n    \n</tr>\n        \n            <tr style=\"background-color: hsl(120, 100.00%, 92.03%); border: none;\">\n    <td style=\"padding: 0 1em 0 0.5em; text-align: right; border: none;\">\n        +1.230\n    </td>\n    <td style=\"padding: 0 0.5em 0 0.5em; text-align: left; border: none;\">\n        word[-2:]:ay\n    </td>\n    \n</tr>\n        \n            <tr style=\"background-color: hsl(120, 100.00%, 92.18%); border: none;\">\n    <td style=\"padding: 0 1em 0 0.5em; text-align: right; border: none;\">\n        +1.198\n    </td>\n    <td style=\"padding: 0 0.5em 0 0.5em; text-align: left; border: none;\">\n        word[-3:]:day\n    </td>\n    \n</tr>\n        \n            <tr style=\"background-color: hsl(120, 100.00%, 92.83%); border: none;\">\n    <td style=\"padding: 0 1em 0 0.5em; text-align: right; border: none;\">\n        +1.057\n    </td>\n    <td style=\"padding: 0 0.5em 0 0.5em; text-align: left; border: none;\">\n        -1:postag:NNP\n    </td>\n    \n</tr>\n        \n            <tr style=\"background-color: hsl(120, 100.00%, 95.47%); border: none;\">\n    <td style=\"padding: 0 1em 0 0.5em; text-align: right; border: none;\">\n        +0.548\n    </td>\n    <td style=\"padding: 0 0.5em 0 0.5em; text-align: left; border: none;\">\n        -1:word.isupper()\n    </td>\n    \n</tr>\n        \n            <tr style=\"background-color: hsl(120, 100.00%, 96.17%); border: none;\">\n    <td style=\"padding: 0 1em 0 0.5em; text-align: right; border: none;\">\n        +0.432\n    </td>\n    <td style=\"padding: 0 0.5em 0 0.5em; text-align: left; border: none;\">\n        EOS\n    </td>\n    \n</tr>\n        \n            <tr style=\"background-color: hsl(120, 100.00%, 96.85%); border: none;\">\n    <td style=\"padding: 0 1em 0 0.5em; text-align: right; border: none;\">\n        +0.326\n    </td>\n    <td style=\"padding: 0 0.5em 0 0.5em; text-align: left; border: none;\">\n        BOS\n    </td>\n    \n</tr>\n        \n            <tr style=\"background-color: hsl(120, 100.00%, 97.24%); border: none;\">\n    <td style=\"padding: 0 1em 0 0.5em; text-align: right; border: none;\">\n        +0.270\n    </td>\n    <td style=\"padding: 0 0.5em 0 0.5em; text-align: left; border: none;\">\n        -1:word.lower():of\n    </td>\n    \n</tr>\n        \n            <tr style=\"background-color: hsl(120, 100.00%, 97.76%); border: none;\">\n    <td style=\"padding: 0 1em 0 0.5em; text-align: right; border: none;\">\n        +0.201\n    </td>\n    <td style=\"padding: 0 0.5em 0 0.5em; text-align: left; border: none;\">\n        +1:postag:CD\n    </td>\n    \n</tr>\n        \n            <tr style=\"background-color: hsl(120, 100.00%, 97.76%); border: none;\">\n    <td style=\"padding: 0 1em 0 0.5em; text-align: right; border: none;\">\n        +0.201\n    </td>\n    <td style=\"padding: 0 0.5em 0 0.5em; text-align: left; border: none;\">\n        +1:postag[:2]:CD\n    </td>\n    \n</tr>\n        \n            <tr style=\"background-color: hsl(120, 100.00%, 97.80%); border: none;\">\n    <td style=\"padding: 0 1em 0 0.5em; text-align: right; border: none;\">\n        +0.195\n    </td>\n    <td style=\"padding: 0 0.5em 0 0.5em; text-align: left; border: none;\">\n        +1:word.isdigit()\n    </td>\n    \n</tr>\n        \n            <tr style=\"background-color: hsl(120, 100.00%, 97.85%); border: none;\">\n    <td style=\"padding: 0 1em 0 0.5em; text-align: right; border: none;\">\n        +0.189\n    </td>\n    <td style=\"padding: 0 0.5em 0 0.5em; text-align: left; border: none;\">\n        word.lower():&#x27;s\n    </td>\n    \n</tr>\n        \n            <tr style=\"background-color: hsl(120, 100.00%, 97.85%); border: none;\">\n    <td style=\"padding: 0 1em 0 0.5em; text-align: right; border: none;\">\n        +0.189\n    </td>\n    <td style=\"padding: 0 0.5em 0 0.5em; text-align: left; border: none;\">\n        word[-3:]:&#x27;s\n    </td>\n    \n</tr>\n        \n            <tr style=\"background-color: hsl(120, 100.00%, 97.85%); border: none;\">\n    <td style=\"padding: 0 1em 0 0.5em; text-align: right; border: none;\">\n        +0.189\n    </td>\n    <td style=\"padding: 0 0.5em 0 0.5em; text-align: left; border: none;\">\n        word[-2:]:&#x27;s\n    </td>\n    \n</tr>\n        \n            <tr style=\"background-color: hsl(120, 100.00%, 97.99%); border: none;\">\n    <td style=\"padding: 0 1em 0 0.5em; text-align: right; border: none;\">\n        +0.172\n    </td>\n    <td style=\"padding: 0 0.5em 0 0.5em; text-align: left; border: none;\">\n        +1:word.lower():place\n    </td>\n    \n</tr>\n        \n            <tr style=\"background-color: hsl(120, 100.00%, 97.99%); border: none;\">\n    <td style=\"padding: 0 1em 0 0.5em; text-align: right; border: none;\">\n        +0.172\n    </td>\n    <td style=\"padding: 0 0.5em 0 0.5em; text-align: left; border: none;\">\n        -1:word.lower():4dbling\n    </td>\n    \n</tr>\n        \n            <tr style=\"background-color: hsl(120, 100.00%, 98.40%); border: none;\">\n    <td style=\"padding: 0 1em 0 0.5em; text-align: right; border: none;\">\n        +0.124\n    </td>\n    <td style=\"padding: 0 0.5em 0 0.5em; text-align: left; border: none;\">\n        -1:postag[:2]:PR\n    </td>\n    \n</tr>\n        \n            <tr style=\"background-color: hsl(120, 100.00%, 98.78%); border: none;\">\n    <td style=\"padding: 0 1em 0 0.5em; text-align: right; border: none;\">\n        +0.084\n    </td>\n    <td style=\"padding: 0 0.5em 0 0.5em; text-align: left; border: none;\">\n        -1:postag:PRP\n    </td>\n    \n</tr>\n        \n            <tr style=\"background-color: hsl(120, 100.00%, 98.94%); border: none;\">\n    <td style=\"padding: 0 1em 0 0.5em; text-align: right; border: none;\">\n        +0.069\n    </td>\n    <td style=\"padding: 0 0.5em 0 0.5em; text-align: left; border: none;\">\n        -1:postag[:2]:NN\n    </td>\n    \n</tr>\n        \n            <tr style=\"background-color: hsl(120, 100.00%, 99.15%); border: none;\">\n    <td style=\"padding: 0 1em 0 0.5em; text-align: right; border: none;\">\n        +0.050\n    </td>\n    <td style=\"padding: 0 0.5em 0 0.5em; text-align: left; border: none;\">\n        +1:word.istitle()\n    </td>\n    \n</tr>\n        \n            <tr style=\"background-color: hsl(120, 100.00%, 99.24%); border: none;\">\n    <td style=\"padding: 0 1em 0 0.5em; text-align: right; border: none;\">\n        +0.043\n    </td>\n    <td style=\"padding: 0 0.5em 0 0.5em; text-align: left; border: none;\">\n        word.istitle()\n    </td>\n    \n</tr>\n        \n        \n            <tr style=\"background-color: hsl(120, 100.00%, 99.24%); border: none;\">\n                <td colspan=\"2\" style=\"padding: 0 0.5em 0 0.5em; text-align: center; border: none; white-space: nowrap;\">\n                    <i>&hellip; 3 more positive &hellip;</i>\n                </td>\n            </tr>\n        \n\n        \n            <tr style=\"background-color: hsl(0, 100.00%, 98.10%); border: none;\">\n                <td colspan=\"2\" style=\"padding: 0 0.5em 0 0.5em; text-align: center; border: none; white-space: nowrap;\">\n                    <i>&hellip; 5 more negative &hellip;</i>\n                </td>\n            </tr>\n        \n        \n            <tr style=\"background-color: hsl(0, 100.00%, 98.10%); border: none;\">\n    <td style=\"padding: 0 1em 0 0.5em; text-align: right; border: none;\">\n        -0.159\n    </td>\n    <td style=\"padding: 0 0.5em 0 0.5em; text-align: left; border: none;\">\n        -1:word.lower():for\n    </td>\n    \n</tr>\n        \n            <tr style=\"background-color: hsl(0, 100.00%, 97.72%); border: none;\">\n    <td style=\"padding: 0 1em 0 0.5em; text-align: right; border: none;\">\n        -0.205\n    </td>\n    <td style=\"padding: 0 0.5em 0 0.5em; text-align: left; border: none;\">\n        +1:word.lower():and\n    </td>\n    \n</tr>\n        \n            <tr style=\"background-color: hsl(0, 100.00%, 94.87%); border: none;\">\n    <td style=\"padding: 0 1em 0 0.5em; text-align: right; border: none;\">\n        -0.655\n    </td>\n    <td style=\"padding: 0 0.5em 0 0.5em; text-align: left; border: none;\">\n        word.isupper()\n    </td>\n    \n</tr>\n        \n            <tr style=\"background-color: hsl(0, 100.00%, 94.69%); border: none;\">\n    <td style=\"padding: 0 1em 0 0.5em; text-align: right; border: none;\">\n        -0.688\n    </td>\n    <td style=\"padding: 0 0.5em 0 0.5em; text-align: left; border: none;\">\n        word[-2:]:on\n    </td>\n    \n</tr>\n        \n            <tr style=\"background-color: hsl(0, 100.00%, 94.21%); border: none;\">\n    <td style=\"padding: 0 1em 0 0.5em; text-align: right; border: none;\">\n        -0.780\n    </td>\n    <td style=\"padding: 0 0.5em 0 0.5em; text-align: left; border: none;\">\n        word[-3:]:ing\n    </td>\n    \n</tr>\n        \n            <tr style=\"background-color: hsl(0, 100.00%, 94.21%); border: none;\">\n    <td style=\"padding: 0 1em 0 0.5em; text-align: right; border: none;\">\n        -0.780\n    </td>\n    <td style=\"padding: 0 0.5em 0 0.5em; text-align: left; border: none;\">\n        word[-2:]:ng\n    </td>\n    \n</tr>\n        \n            <tr style=\"background-color: hsl(0, 100.00%, 88.39%); border: none;\">\n    <td style=\"padding: 0 1em 0 0.5em; text-align: right; border: none;\">\n        -2.106\n    </td>\n    <td style=\"padding: 0 0.5em 0 0.5em; text-align: left; border: none;\">\n        postag[:2]:NN\n    </td>\n    \n</tr>\n        \n            <tr style=\"background-color: hsl(0, 100.00%, 80.00%); border: none;\">\n    <td style=\"padding: 0 1em 0 0.5em; text-align: right; border: none;\">\n        -4.579\n    </td>\n    <td style=\"padding: 0 0.5em 0 0.5em; text-align: left; border: none;\">\n        postag:NNP\n    </td>\n    \n</tr>\n        \n\n        </tbody>\n    </table>\n\n                                \n                            \n                        </td>\n                    \n                        <td style=\"padding: 0px; border: 1px solid black; vertical-align: top;\">\n                            \n                                \n                                    \n                                    \n    \n    <table class=\"eli5-weights\"\n           style=\"border-collapse: collapse; border: none; margin-top: 0em; table-layout: auto; width: 100%;\">\n        <thead>\n        <tr style=\"border: none;\">\n            \n                <th style=\"padding: 0 1em 0 0.5em; text-align: right; border: none;\" title=\"Feature weights. Note that weights do not account for feature value scales, so if feature values have different scales, features with highest weights might not be the most important.\">\n                    Weight<sup>?</sup>\n                </th>\n            \n            <th style=\"padding: 0 0.5em 0 0.5em; text-align: left; border: none;\">Feature</th>\n            \n        </tr>\n        </thead>\n        <tbody>\n        \n            <tr style=\"background-color: hsl(120, 100.00%, 92.04%); border: none;\">\n    <td style=\"padding: 0 1em 0 0.5em; text-align: right; border: none;\">\n        +1.229\n    </td>\n    <td style=\"padding: 0 0.5em 0 0.5em; text-align: left; border: none;\">\n        word[-3:]:ook\n    </td>\n    \n</tr>\n        \n            <tr style=\"background-color: hsl(120, 100.00%, 92.04%); border: none;\">\n    <td style=\"padding: 0 1em 0 0.5em; text-align: right; border: none;\">\n        +1.229\n    </td>\n    <td style=\"padding: 0 0.5em 0 0.5em; text-align: left; border: none;\">\n        word[-2:]:ok\n    </td>\n    \n</tr>\n        \n            <tr style=\"background-color: hsl(120, 100.00%, 92.04%); border: none;\">\n    <td style=\"padding: 0 1em 0 0.5em; text-align: right; border: none;\">\n        +1.229\n    </td>\n    <td style=\"padding: 0 0.5em 0 0.5em; text-align: left; border: none;\">\n        word.lower():facebook\n    </td>\n    \n</tr>\n        \n            <tr style=\"background-color: hsl(120, 100.00%, 92.04%); border: none;\">\n    <td style=\"padding: 0 1em 0 0.5em; text-align: right; border: none;\">\n        +1.229\n    </td>\n    <td style=\"padding: 0 0.5em 0 0.5em; text-align: left; border: none;\">\n        +1:word.lower():.....\n    </td>\n    \n</tr>\n        \n            <tr style=\"background-color: hsl(120, 100.00%, 92.82%); border: none;\">\n    <td style=\"padding: 0 1em 0 0.5em; text-align: right; border: none;\">\n        +1.059\n    </td>\n    <td style=\"padding: 0 0.5em 0 0.5em; text-align: left; border: none;\">\n        -1:word.lower():on\n    </td>\n    \n</tr>\n        \n            <tr style=\"background-color: hsl(120, 100.00%, 92.94%); border: none;\">\n    <td style=\"padding: 0 1em 0 0.5em; text-align: right; border: none;\">\n        +1.034\n    </td>\n    <td style=\"padding: 0 0.5em 0 0.5em; text-align: left; border: none;\">\n        word.lower():pxleyes\n    </td>\n    \n</tr>\n        \n            <tr style=\"background-color: hsl(120, 100.00%, 92.94%); border: none;\">\n    <td style=\"padding: 0 1em 0 0.5em; text-align: right; border: none;\">\n        +1.034\n    </td>\n    <td style=\"padding: 0 0.5em 0 0.5em; text-align: left; border: none;\">\n        +1:word.lower():top\n    </td>\n    \n</tr>\n        \n            <tr style=\"background-color: hsl(120, 100.00%, 92.94%); border: none;\">\n    <td style=\"padding: 0 1em 0 0.5em; text-align: right; border: none;\">\n        +1.034\n    </td>\n    <td style=\"padding: 0 0.5em 0 0.5em; text-align: left; border: none;\">\n        word[-3:]:yes\n    </td>\n    \n</tr>\n        \n            <tr style=\"background-color: hsl(120, 100.00%, 92.98%); border: none;\">\n    <td style=\"padding: 0 1em 0 0.5em; text-align: right; border: none;\">\n        +1.026\n    </td>\n    <td style=\"padding: 0 0.5em 0 0.5em; text-align: left; border: none;\">\n        word[-2:]:es\n    </td>\n    \n</tr>\n        \n            <tr style=\"background-color: hsl(120, 100.00%, 96.47%); border: none;\">\n    <td style=\"padding: 0 1em 0 0.5em; text-align: right; border: none;\">\n        +0.385\n    </td>\n    <td style=\"padding: 0 0.5em 0 0.5em; text-align: left; border: none;\">\n        +1:postag[:2]::\n    </td>\n    \n</tr>\n        \n            <tr style=\"background-color: hsl(120, 100.00%, 96.47%); border: none;\">\n    <td style=\"padding: 0 1em 0 0.5em; text-align: right; border: none;\">\n        +0.385\n    </td>\n    <td style=\"padding: 0 0.5em 0 0.5em; text-align: left; border: none;\">\n        +1:postag::\n    </td>\n    \n</tr>\n        \n        \n\n        \n        \n\n        </tbody>\n    </table>\n\n                                \n                            \n                        </td>\n                    \n                        <td style=\"padding: 0px; border: 1px solid black; vertical-align: top;\">\n                            \n                                \n                                    \n                                    \n    \n    <table class=\"eli5-weights\"\n           style=\"border-collapse: collapse; border: none; margin-top: 0em; table-layout: auto; width: 100%;\">\n        <thead>\n        <tr style=\"border: none;\">\n            \n                <th style=\"padding: 0 1em 0 0.5em; text-align: right; border: none;\" title=\"Feature weights. Note that weights do not account for feature value scales, so if feature values have different scales, features with highest weights might not be the most important.\">\n                    Weight<sup>?</sup>\n                </th>\n            \n            <th style=\"padding: 0 0.5em 0 0.5em; text-align: left; border: none;\">Feature</th>\n            \n        </tr>\n        </thead>\n        <tbody>\n        \n            <tr style=\"background-color: hsl(120, 100.00%, 80.16%); border: none;\">\n    <td style=\"padding: 0 1em 0 0.5em; text-align: right; border: none;\">\n        +4.526\n    </td>\n    <td style=\"padding: 0 0.5em 0 0.5em; text-align: left; border: none;\">\n        word.isupper()\n    </td>\n    \n</tr>\n        \n            <tr style=\"background-color: hsl(120, 100.00%, 85.83%); border: none;\">\n    <td style=\"padding: 0 1em 0 0.5em; text-align: right; border: none;\">\n        +2.800\n    </td>\n    <td style=\"padding: 0 0.5em 0 0.5em; text-align: left; border: none;\">\n        -1:word.lower():for\n    </td>\n    \n</tr>\n        \n            <tr style=\"background-color: hsl(120, 100.00%, 92.84%); border: none;\">\n    <td style=\"padding: 0 1em 0 0.5em; text-align: right; border: none;\">\n        +1.055\n    </td>\n    <td style=\"padding: 0 0.5em 0 0.5em; text-align: left; border: none;\">\n        postag:NNP\n    </td>\n    \n</tr>\n        \n            <tr style=\"background-color: hsl(120, 100.00%, 96.63%); border: none;\">\n    <td style=\"padding: 0 1em 0 0.5em; text-align: right; border: none;\">\n        +0.360\n    </td>\n    <td style=\"padding: 0 0.5em 0 0.5em; text-align: left; border: none;\">\n        word[-3:]:ire\n    </td>\n    \n</tr>\n        \n            <tr style=\"background-color: hsl(120, 100.00%, 96.63%); border: none;\">\n    <td style=\"padding: 0 1em 0 0.5em; text-align: right; border: none;\">\n        +0.360\n    </td>\n    <td style=\"padding: 0 0.5em 0 0.5em; text-align: left; border: none;\">\n        word.lower():empire\n    </td>\n    \n</tr>\n        \n            <tr style=\"background-color: hsl(120, 100.00%, 96.63%); border: none;\">\n    <td style=\"padding: 0 1em 0 0.5em; text-align: right; border: none;\">\n        +0.360\n    </td>\n    <td style=\"padding: 0 0.5em 0 0.5em; text-align: left; border: none;\">\n        +1:word.lower():state\n    </td>\n    \n</tr>\n        \n            <tr style=\"background-color: hsl(120, 100.00%, 97.12%); border: none;\">\n    <td style=\"padding: 0 1em 0 0.5em; text-align: right; border: none;\">\n        +0.288\n    </td>\n    <td style=\"padding: 0 0.5em 0 0.5em; text-align: left; border: none;\">\n        word[-2:]:re\n    </td>\n    \n</tr>\n        \n            <tr style=\"background-color: hsl(120, 100.00%, 97.23%); border: none;\">\n    <td style=\"padding: 0 1em 0 0.5em; text-align: right; border: none;\">\n        +0.272\n    </td>\n    <td style=\"padding: 0 0.5em 0 0.5em; text-align: left; border: none;\">\n        -1:word.lower():.\n    </td>\n    \n</tr>\n        \n            <tr style=\"background-color: hsl(120, 100.00%, 97.63%); border: none;\">\n    <td style=\"padding: 0 1em 0 0.5em; text-align: right; border: none;\">\n        +0.218\n    </td>\n    <td style=\"padding: 0 0.5em 0 0.5em; text-align: left; border: none;\">\n        -1:postag:.\n    </td>\n    \n</tr>\n        \n            <tr style=\"background-color: hsl(120, 100.00%, 97.63%); border: none;\">\n    <td style=\"padding: 0 1em 0 0.5em; text-align: right; border: none;\">\n        +0.218\n    </td>\n    <td style=\"padding: 0 0.5em 0 0.5em; text-align: left; border: none;\">\n        -1:postag[:2]:.\n    </td>\n    \n</tr>\n        \n        \n\n        \n        \n            <tr style=\"background-color: hsl(0, 100.00%, 98.61%); border: none;\">\n    <td style=\"padding: 0 1em 0 0.5em; text-align: right; border: none;\">\n        -0.102\n    </td>\n    <td style=\"padding: 0 0.5em 0 0.5em; text-align: left; border: none;\">\n        bias\n    </td>\n    \n</tr>\n        \n            <tr style=\"background-color: hsl(0, 100.00%, 92.22%); border: none;\">\n    <td style=\"padding: 0 1em 0 0.5em; text-align: right; border: none;\">\n        -1.189\n    </td>\n    <td style=\"padding: 0 0.5em 0 0.5em; text-align: left; border: none;\">\n        word.istitle()\n    </td>\n    \n</tr>\n        \n\n        </tbody>\n    </table>\n\n                                \n                            \n                        </td>\n                    \n                        <td style=\"padding: 0px; border: 1px solid black; vertical-align: top;\">\n                            \n                                \n                                    \n                                    \n    \n    <table class=\"eli5-weights\"\n           style=\"border-collapse: collapse; border: none; margin-top: 0em; table-layout: auto; width: 100%;\">\n        <thead>\n        <tr style=\"border: none;\">\n            \n                <th style=\"padding: 0 1em 0 0.5em; text-align: right; border: none;\" title=\"Feature weights. Note that weights do not account for feature value scales, so if feature values have different scales, features with highest weights might not be the most important.\">\n                    Weight<sup>?</sup>\n                </th>\n            \n            <th style=\"padding: 0 0.5em 0 0.5em; text-align: left; border: none;\">Feature</th>\n            \n        </tr>\n        </thead>\n        <tbody>\n        \n            <tr style=\"background-color: hsl(120, 100.00%, 90.98%); border: none;\">\n    <td style=\"padding: 0 1em 0 0.5em; text-align: right; border: none;\">\n        +1.467\n    </td>\n    <td style=\"padding: 0 0.5em 0 0.5em; text-align: left; border: none;\">\n        -1:postag[:2]:NN\n    </td>\n    \n</tr>\n        \n            <tr style=\"background-color: hsl(120, 100.00%, 92.59%); border: none;\">\n    <td style=\"padding: 0 1em 0 0.5em; text-align: right; border: none;\">\n        +1.108\n    </td>\n    <td style=\"padding: 0 0.5em 0 0.5em; text-align: left; border: none;\">\n        -1:word.lower():fashion\n    </td>\n    \n</tr>\n        \n            <tr style=\"background-color: hsl(120, 100.00%, 92.93%); border: none;\">\n    <td style=\"padding: 0 1em 0 0.5em; text-align: right; border: none;\">\n        +1.037\n    </td>\n    <td style=\"padding: 0 0.5em 0 0.5em; text-align: left; border: none;\">\n        +1:word.lower():and\n    </td>\n    \n</tr>\n        \n            <tr style=\"background-color: hsl(120, 100.00%, 94.95%); border: none;\">\n    <td style=\"padding: 0 1em 0 0.5em; text-align: right; border: none;\">\n        +0.640\n    </td>\n    <td style=\"padding: 0 0.5em 0 0.5em; text-align: left; border: none;\">\n        +1:postag[:2]:CC\n    </td>\n    \n</tr>\n        \n            <tr style=\"background-color: hsl(120, 100.00%, 94.95%); border: none;\">\n    <td style=\"padding: 0 1em 0 0.5em; text-align: right; border: none;\">\n        +0.640\n    </td>\n    <td style=\"padding: 0 0.5em 0 0.5em; text-align: left; border: none;\">\n        +1:postag:CC\n    </td>\n    \n</tr>\n        \n            <tr style=\"background-color: hsl(120, 100.00%, 95.24%); border: none;\">\n    <td style=\"padding: 0 1em 0 0.5em; text-align: right; border: none;\">\n        +0.588\n    </td>\n    <td style=\"padding: 0 0.5em 0 0.5em; text-align: left; border: none;\">\n        postag:NN\n    </td>\n    \n</tr>\n        \n            <tr style=\"background-color: hsl(120, 100.00%, 96.25%); border: none;\">\n    <td style=\"padding: 0 1em 0 0.5em; text-align: right; border: none;\">\n        +0.419\n    </td>\n    <td style=\"padding: 0 0.5em 0 0.5em; text-align: left; border: none;\">\n        word.lower():week\n    </td>\n    \n</tr>\n        \n            <tr style=\"background-color: hsl(120, 100.00%, 96.25%); border: none;\">\n    <td style=\"padding: 0 1em 0 0.5em; text-align: right; border: none;\">\n        +0.419\n    </td>\n    <td style=\"padding: 0 0.5em 0 0.5em; text-align: left; border: none;\">\n        word[-2:]:ek\n    </td>\n    \n</tr>\n        \n            <tr style=\"background-color: hsl(120, 100.00%, 96.25%); border: none;\">\n    <td style=\"padding: 0 1em 0 0.5em; text-align: right; border: none;\">\n        +0.419\n    </td>\n    <td style=\"padding: 0 0.5em 0 0.5em; text-align: left; border: none;\">\n        word[-3:]:eek\n    </td>\n    \n</tr>\n        \n            <tr style=\"background-color: hsl(120, 100.00%, 96.60%); border: none;\">\n    <td style=\"padding: 0 1em 0 0.5em; text-align: right; border: none;\">\n        +0.364\n    </td>\n    <td style=\"padding: 0 0.5em 0 0.5em; text-align: left; border: none;\">\n        word[-2:]:rd\n    </td>\n    \n</tr>\n        \n            <tr style=\"background-color: hsl(120, 100.00%, 96.60%); border: none;\">\n    <td style=\"padding: 0 1em 0 0.5em; text-align: right; border: none;\">\n        +0.364\n    </td>\n    <td style=\"padding: 0 0.5em 0 0.5em; text-align: left; border: none;\">\n        word[-3:]:ard\n    </td>\n    \n</tr>\n        \n            <tr style=\"background-color: hsl(120, 100.00%, 96.60%); border: none;\">\n    <td style=\"padding: 0 1em 0 0.5em; text-align: right; border: none;\">\n        +0.364\n    </td>\n    <td style=\"padding: 0 0.5em 0 0.5em; text-align: left; border: none;\">\n        word.lower():award\n    </td>\n    \n</tr>\n        \n            <tr style=\"background-color: hsl(120, 100.00%, 96.60%); border: none;\">\n    <td style=\"padding: 0 1em 0 0.5em; text-align: right; border: none;\">\n        +0.364\n    </td>\n    <td style=\"padding: 0 0.5em 0 0.5em; text-align: left; border: none;\">\n        -1:word.lower():sage\n    </td>\n    \n</tr>\n        \n            <tr style=\"background-color: hsl(120, 100.00%, 96.60%); border: none;\">\n    <td style=\"padding: 0 1em 0 0.5em; text-align: right; border: none;\">\n        +0.364\n    </td>\n    <td style=\"padding: 0 0.5em 0 0.5em; text-align: left; border: none;\">\n        +1:postag:TO\n    </td>\n    \n</tr>\n        \n            <tr style=\"background-color: hsl(120, 100.00%, 96.60%); border: none;\">\n    <td style=\"padding: 0 1em 0 0.5em; text-align: right; border: none;\">\n        +0.364\n    </td>\n    <td style=\"padding: 0 0.5em 0 0.5em; text-align: left; border: none;\">\n        +1:postag[:2]:TO\n    </td>\n    \n</tr>\n        \n            <tr style=\"background-color: hsl(120, 100.00%, 96.60%); border: none;\">\n    <td style=\"padding: 0 1em 0 0.5em; text-align: right; border: none;\">\n        +0.364\n    </td>\n    <td style=\"padding: 0 0.5em 0 0.5em; text-align: left; border: none;\">\n        +1:word.lower():to\n    </td>\n    \n</tr>\n        \n            <tr style=\"background-color: hsl(120, 100.00%, 96.63%); border: none;\">\n    <td style=\"padding: 0 1em 0 0.5em; text-align: right; border: none;\">\n        +0.360\n    </td>\n    <td style=\"padding: 0 0.5em 0 0.5em; text-align: left; border: none;\">\n        word.lower():building\n    </td>\n    \n</tr>\n        \n            <tr style=\"background-color: hsl(120, 100.00%, 96.63%); border: none;\">\n    <td style=\"padding: 0 1em 0 0.5em; text-align: right; border: none;\">\n        +0.360\n    </td>\n    <td style=\"padding: 0 0.5em 0 0.5em; text-align: left; border: none;\">\n        +1:postag:SYM\n    </td>\n    \n</tr>\n        \n            <tr style=\"background-color: hsl(120, 100.00%, 96.63%); border: none;\">\n    <td style=\"padding: 0 1em 0 0.5em; text-align: right; border: none;\">\n        +0.360\n    </td>\n    <td style=\"padding: 0 0.5em 0 0.5em; text-align: left; border: none;\">\n        +1:word.lower():=\n    </td>\n    \n</tr>\n        \n            <tr style=\"background-color: hsl(120, 100.00%, 96.63%); border: none;\">\n    <td style=\"padding: 0 1em 0 0.5em; text-align: right; border: none;\">\n        +0.360\n    </td>\n    <td style=\"padding: 0 0.5em 0 0.5em; text-align: left; border: none;\">\n        -1:word.lower():state\n    </td>\n    \n</tr>\n        \n            <tr style=\"background-color: hsl(120, 100.00%, 96.63%); border: none;\">\n    <td style=\"padding: 0 1em 0 0.5em; text-align: right; border: none;\">\n        +0.360\n    </td>\n    <td style=\"padding: 0 0.5em 0 0.5em; text-align: left; border: none;\">\n        +1:postag[:2]:SY\n    </td>\n    \n</tr>\n        \n            <tr style=\"background-color: hsl(120, 100.00%, 99.41%); border: none;\">\n    <td style=\"padding: 0 1em 0 0.5em; text-align: right; border: none;\">\n        +0.030\n    </td>\n    <td style=\"padding: 0 0.5em 0 0.5em; text-align: left; border: none;\">\n        word.lower():fashion\n    </td>\n    \n</tr>\n        \n            <tr style=\"background-color: hsl(120, 100.00%, 99.41%); border: none;\">\n    <td style=\"padding: 0 1em 0 0.5em; text-align: right; border: none;\">\n        +0.030\n    </td>\n    <td style=\"padding: 0 0.5em 0 0.5em; text-align: left; border: none;\">\n        -1:word.lower():london\n    </td>\n    \n</tr>\n        \n            <tr style=\"background-color: hsl(120, 100.00%, 99.78%); border: none;\">\n    <td style=\"padding: 0 1em 0 0.5em; text-align: right; border: none;\">\n        +0.007\n    </td>\n    <td style=\"padding: 0 0.5em 0 0.5em; text-align: left; border: none;\">\n        word.lower():state\n    </td>\n    \n</tr>\n        \n            <tr style=\"background-color: hsl(120, 100.00%, 99.78%); border: none;\">\n    <td style=\"padding: 0 1em 0 0.5em; text-align: right; border: none;\">\n        +0.007\n    </td>\n    <td style=\"padding: 0 0.5em 0 0.5em; text-align: left; border: none;\">\n        +1:word.lower():building\n    </td>\n    \n</tr>\n        \n            <tr style=\"background-color: hsl(120, 100.00%, 99.78%); border: none;\">\n    <td style=\"padding: 0 1em 0 0.5em; text-align: right; border: none;\">\n        +0.007\n    </td>\n    <td style=\"padding: 0 0.5em 0 0.5em; text-align: left; border: none;\">\n        -1:word.lower():empire\n    </td>\n    \n</tr>\n        \n            <tr style=\"background-color: hsl(120, 100.00%, 99.89%); border: none;\">\n    <td style=\"padding: 0 1em 0 0.5em; text-align: right; border: none;\">\n        +0.003\n    </td>\n    <td style=\"padding: 0 0.5em 0 0.5em; text-align: left; border: none;\">\n        word[-2:]:te\n    </td>\n    \n</tr>\n        \n            <tr style=\"background-color: hsl(120, 100.00%, 99.91%); border: none;\">\n    <td style=\"padding: 0 1em 0 0.5em; text-align: right; border: none;\">\n        +0.002\n    </td>\n    <td style=\"padding: 0 0.5em 0 0.5em; text-align: left; border: none;\">\n        word[-3:]:ion\n    </td>\n    \n</tr>\n        \n        \n            <tr style=\"background-color: hsl(120, 100.00%, 99.91%); border: none;\">\n                <td colspan=\"2\" style=\"padding: 0 0.5em 0 0.5em; text-align: center; border: none; white-space: nowrap;\">\n                    <i>&hellip; 1 more positive &hellip;</i>\n                </td>\n            </tr>\n        \n\n        \n        \n            <tr style=\"background-color: hsl(0, 100.00%, 97.35%); border: none;\">\n    <td style=\"padding: 0 1em 0 0.5em; text-align: right; border: none;\">\n        -0.255\n    </td>\n    <td style=\"padding: 0 0.5em 0 0.5em; text-align: left; border: none;\">\n        +1:postag[:2]:NN\n    </td>\n    \n</tr>\n        \n            <tr style=\"background-color: hsl(0, 100.00%, 97.19%); border: none;\">\n    <td style=\"padding: 0 1em 0 0.5em; text-align: right; border: none;\">\n        -0.277\n    </td>\n    <td style=\"padding: 0 0.5em 0 0.5em; text-align: left; border: none;\">\n        -1:word.isupper()\n    </td>\n    \n</tr>\n        \n\n        </tbody>\n    </table>\n\n                                \n                            \n                        </td>\n                    \n                        <td style=\"padding: 0px; border: 1px solid black; vertical-align: top;\">\n                            \n                                \n                                    \n                                    \n    \n    <table class=\"eli5-weights\"\n           style=\"border-collapse: collapse; border: none; margin-top: 0em; table-layout: auto; width: 100%;\">\n        <thead>\n        <tr style=\"border: none;\">\n            \n                <th style=\"padding: 0 1em 0 0.5em; text-align: right; border: none;\" title=\"Feature weights. Note that weights do not account for feature value scales, so if feature values have different scales, features with highest weights might not be the most important.\">\n                    Weight<sup>?</sup>\n                </th>\n            \n            <th style=\"padding: 0 0.5em 0 0.5em; text-align: left; border: none;\">Feature</th>\n            \n        </tr>\n        </thead>\n        <tbody>\n        \n            <tr style=\"background-color: hsl(120, 100.00%, 90.64%); border: none;\">\n    <td style=\"padding: 0 1em 0 0.5em; text-align: right; border: none;\">\n        +1.547\n    </td>\n    <td style=\"padding: 0 0.5em 0 0.5em; text-align: left; border: none;\">\n        word.lower():4dbling\n    </td>\n    \n</tr>\n        \n            <tr style=\"background-color: hsl(120, 100.00%, 90.78%); border: none;\">\n    <td style=\"padding: 0 1em 0 0.5em; text-align: right; border: none;\">\n        +1.516\n    </td>\n    <td style=\"padding: 0 0.5em 0 0.5em; text-align: left; border: none;\">\n        +1:word.lower():&#x27;s\n    </td>\n    \n</tr>\n        \n            <tr style=\"background-color: hsl(120, 100.00%, 96.58%); border: none;\">\n    <td style=\"padding: 0 1em 0 0.5em; text-align: right; border: none;\">\n        +0.367\n    </td>\n    <td style=\"padding: 0 0.5em 0 0.5em; text-align: left; border: none;\">\n        word[-3:]:ing\n    </td>\n    \n</tr>\n        \n            <tr style=\"background-color: hsl(120, 100.00%, 96.58%); border: none;\">\n    <td style=\"padding: 0 1em 0 0.5em; text-align: right; border: none;\">\n        +0.367\n    </td>\n    <td style=\"padding: 0 0.5em 0 0.5em; text-align: left; border: none;\">\n        word[-2:]:ng\n    </td>\n    \n</tr>\n        \n        \n\n        \n        \n\n        </tbody>\n    </table>\n\n                                \n                            \n                        </td>\n                    \n                \n            </tr>\n        </table>\n    \n\n    \n        \n\n\n    \n        \n\n\n    \n        \n\n\n    \n        \n\n\n    \n        \n\n\n    \n\n\n    \n\n    \n\n    \n\n\n    \n\n    \n\n    \n\n    \n\n    \n\n    \n\n\n    \n\n    \n\n    \n\n    \n\n    \n\n    \n\n\n\n"
     },
     "execution_count": 54,
     "metadata": {},
     "output_type": "execute_result"
    }
   ],
   "source": [
    "_crf.fit(X, y)\n",
    "eli5.show_weights(_crf, top=30)"
   ]
  }
 ],
 "metadata": {
  "kernelspec": {
   "name": "horus",
   "language": "python",
   "display_name": "horus"
  },
  "language_info": {
   "codemirror_mode": {
    "name": "ipython",
    "version": 3
   },
   "file_extension": ".py",
   "mimetype": "text/x-python",
   "name": "python",
   "nbconvert_exporter": "python",
   "pygments_lexer": "ipython3",
   "version": "3.7.4"
  }
 },
 "nbformat": 4,
 "nbformat_minor": 4
}